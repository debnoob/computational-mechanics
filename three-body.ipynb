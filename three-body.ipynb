{
 "cells": [
  {
   "cell_type": "code",
   "execution_count": 21,
   "metadata": {},
   "outputs": [
    {
     "name": "stdout",
     "output_type": "stream",
     "text": [
      "Populating the interactive namespace from numpy and matplotlib\n"
     ]
    }
   ],
   "source": [
    "%pylab inline\n",
    "from scipy.integrate import odeint  #the differential equation integrator\n",
    "from mpl_toolkits.mplot3d import Axes3D  #Import 3-D plotting tool (might need later)\n",
    "from matplotlib import animation    # animation package (for later)\n",
    "import numpy"
   ]
  },
  {
   "cell_type": "markdown",
   "metadata": {
    "collapsed": true
   },
   "source": [
    "# Mechanics Lab 7 – Numerical Solution to the Three-Body Problem\n",
    "\n",
    "Today we will be looking at a problem that *cannot* be solved analytically –  the three-body problem.  We already know (or will learn soon) that two  massive objects moving within their mutually described Newtonian gravitational potential will undergo orbits shaped like conic sections – i.e. circles, ellipses, parabolas, and hyperbolas.  But what are the shapes of orbits in a three-body system?  The answer here is not straightforward and requires a computer to solve precisely, which is why a system of three bodies interacting gravitationaly is one of the classic examples of *chaos*.  \n",
    "\n",
    "\n",
    "## Objectives\n",
    "\n",
    "In this lab you will \n",
    "* create an integrator to find the motion of 2 and 3-body gravitational systems;\n",
    "* test your integrator by applying it to stable situations where you can predict the orbit;\n",
    "* transform the trajectories to the center-of-mass frame;\n",
    "* create a movie of the motion;\n",
    "* and observe chaotic 3-body trajectories.\n"
   ]
  },
  {
   "cell_type": "markdown",
   "metadata": {},
   "source": [
    "## Preparation\n",
    "\n",
    "#### Exercise 7.1 \n",
    "\n",
    "First, we'll break the problem down into manageable pieces by defining a function. Each time we invoke the gravitational force law, we are going to need to find the distance between two objects.  Fix the code below to define a function that returns the distance between two objects with $x$, $y$, and $z$ coordinates $(x_{1}, y_{1}, z_{1})$ and $(x_{2}, y_{2}, z_{2})$."
   ]
  },
  {
   "cell_type": "code",
   "execution_count": 22,
   "metadata": {},
   "outputs": [],
   "source": [
    "def findDist(x1,y1,z1,x2,y2,z2):\n",
    "    \n",
    "    dist = ((x2-x1)**2 + (y2-y1)**2 + (z2-z1)**2)**.5 \n",
    "    \n",
    "    \n",
    "    return dist"
   ]
  },
  {
   "cell_type": "markdown",
   "metadata": {},
   "source": [
    "## A warmup:  Solving the 2-body problem numerically for a circular orbit\n",
    "\n",
    "Let's ease our way into the more complex 3-body problem by first generating the orbital trajectory for a 2-body system undergoing a **circular** orbit.  We'll start with a large mass (say a star) with $M_{1} = 2000$ and a smaller mass (say a planet) with $M_2 = 1$. We'll work in a unit system where $G = 1.0$.  \n",
    "\n",
    "We will confine the motion of both bodies to the x-y plane for now.  Later if we have time we will expand our solutions into 3-dimensional space.  \n",
    "\n",
    "#### Exercise 7.2  \n",
    "In the following three cells follow the prompts to fill in the appropriate initial conditions, the deriv function, and the integration call. Choose initial conditions such that the lower mass body, $M_2$, orbits in a circle 100 distance units away from the larger body, $M_1$. Integrate the trajectory from 0 to 200 with 100000 time steps.\n",
    "\n",
    "In creating the rules for your integrator, it may help to think of the gravitational force on $M_1$ by $M_2$ as:\n",
    "$$ \\vec{F}_{G,1-2} = -\\frac{G M_{1} M_{2} \\vec{r}}{(r+\\epsilon)^{3}}$$\n",
    "\n",
    "where $\\vec{r}$ is the position of $M_1$ minus the positon of $M_2$ and $\\epsilon$ is a small number (0.1 is a good value) that will ensure that our masses never experience any extremely close encounters.  (However, in calculating your initial conditions, you should not include $\\epsilon$.) \n",
    "\n",
    "*Coding style tip: rather than doing any necessary calculations to find the initial velocity of $M_2$ elsewhere (say, a piece of scratch paper), include those calculation in the cell block. This way, you'll have a record of what you did and it will be easy to reproduce the calculations for different values, for instance a larger radius circle.*"
   ]
  },
  {
   "cell_type": "code",
   "execution_count": 23,
   "metadata": {},
   "outputs": [
    {
     "name": "stdout",
     "output_type": "stream",
     "text": [
      "4.47213595499958\n"
     ]
    }
   ],
   "source": [
    "# Defining constants\n",
    "gGrav = 1 ### FIX\n",
    "epsilon = .1 ### FIX\n",
    "\n",
    "# Masses\n",
    "m1 = 2000 ### FIX\n",
    "m2 = 1 ### FIX\n",
    "\n",
    "#Initial Conditions\n",
    "\n",
    "\n",
    "#### UNCOMMENT AND FILL IN initial conditions below\n",
    "\n",
    "\n",
    "r1_0 = array([0, 0])\n",
    "drDt1_0 = array([0, 0])\n",
    "\n",
    "r2_0_r = findDist(r1_0[0], r1_0[1], 0, 0, 100, 0)\n",
    "r2_0_v = (gGrav*m1/r2_0_r)**.5\n",
    "print(r2_0_v)\n",
    "r2_0 = array([0, r2_0_r])\n",
    "drDt2_0 = array([r2_0_v, 0])\n",
    "\n",
    "\n"
   ]
  },
  {
   "cell_type": "code",
   "execution_count": 24,
   "metadata": {},
   "outputs": [],
   "source": [
    "def deriv_2body_2D(f,t): \n",
    "    \n",
    "    x_1 = f[0]\n",
    "    y_1 = f[1]\n",
    "    \n",
    "    dxDt_1 = f[2]\n",
    "    dyDt_1 = f[3]\n",
    "    \n",
    "    x_2 = f[4]\n",
    "    y_2 = f[5]\n",
    "    \n",
    "    dxDt_2 = f[6]\n",
    "    dyDt_2 = f[7]\n",
    "    \n",
    "    #Derivative definitions\n",
    "    distance1 = findDist(x_1, y_1, 0, x_2, y_2, 0)\n",
    "    # Students fill in below:\n",
    "    \n",
    "    d2xDt2_1 = -(gGrav*m2/(distance1+epsilon)**3)*(x_1 - x_2) \n",
    "    d2yDt2_1 = -(gGrav*m2/(distance1+epsilon)**3)*(y_1 - y_2)\n",
    "\n",
    "    d2xDt2_2 = -(gGrav*m1/(distance1+epsilon)**3)*(x_2 - x_1)\n",
    "    d2yDt2_2 = -(gGrav*m1/(distance1+epsilon)**3)*(y_2 - y_1)\n",
    "\n",
    "    \n",
    "    return array([dxDt_1, dyDt_1, d2xDt2_1, d2yDt2_1, dxDt_2, dyDt_2, d2xDt2_2, d2yDt2_2], float)"
   ]
  },
  {
   "cell_type": "code",
   "execution_count": 25,
   "metadata": {},
   "outputs": [
    {
     "name": "stdout",
     "output_type": "stream",
     "text": [
      "[[ 0.00000000e+00  0.00000000e+00  0.00000000e+00 ...  1.00000000e+02\n",
      "   4.47213595e+00  0.00000000e+00]\n",
      " [ 1.08845555e-14  1.99405191e-10  8.91767126e-12 ...  9.99999996e+01\n",
      "   4.47213594e+00 -3.98806383e-04]\n",
      " [ 5.67637989e-14  7.97620746e-10  3.56706842e-11 ...  9.99999984e+01\n",
      "   4.47213588e+00 -7.97612763e-04]\n",
      " ...\n",
      " [ 4.21911941e-01  9.34776348e-02  4.16099984e-03 ... -8.69552696e+01\n",
      "  -3.84986373e+00 -2.22611559e+00]\n",
      " [ 4.21920264e-01  9.34798608e-02  4.16109847e-03 ... -8.69597216e+01\n",
      "  -3.85006099e+00 -2.22577325e+00]\n",
      " [ 4.21928586e-01  9.34820864e-02  4.16119709e-03 ... -8.69641728e+01\n",
      "  -3.85025822e+00 -2.22543089e+00]]\n"
     ]
    }
   ],
   "source": [
    "# Integrate your equation of motion\n",
    "\n",
    "#### UNCOMMENT AND FILL IN code to integrate the motion from t = 0 to 200 with 100000 timesteps\n",
    "\n",
    "\n",
    "\n",
    "# initial values\n",
    "tpts = linspace(0,200,100000)\n",
    "fInit = [r1_0[0],r1_0[1],drDt1_0[0],drDt1_0[1],r2_0[0],r2_0[1],drDt2_0[0],drDt2_0[1]]\n",
    "    \n",
    "fSoln = odeint(deriv_2body_2D, fInit, tpts)\n",
    "\n",
    "\n",
    "\n",
    "print(fSoln)\n"
   ]
  },
  {
   "cell_type": "markdown",
   "metadata": {},
   "source": [
    "### Plots of Trajectories\n",
    "\n",
    "#### Exercise 7.3 \n",
    "In the cell below, create plots of the trajectories (y vs. x) of both objects on the same set of axes\n",
    "Also create plots of x vs. t and y vs. t for the planet (m2).  \n",
    "If you were unable to obtain a circular trajectory of radius 100 for the planet (m2),\n",
    "de-bug your code and try again.  If you are stuck, talk with an instructor.  \n",
    "\n",
    "\n"
   ]
  },
  {
   "cell_type": "code",
   "execution_count": 26,
   "metadata": {},
   "outputs": [
    {
     "data": {
      "text/plain": [
       "[<matplotlib.lines.Line2D at 0xeaaa198>]"
      ]
     },
     "execution_count": 26,
     "metadata": {},
     "output_type": "execute_result"
    },
    {
     "data": {
      "image/png": "[encoded data removed]",
      "text/plain": [
       "<Figure size 432x288 with 1 Axes>"
      ]
     },
     "metadata": {
      "needs_background": "light"
     },
     "output_type": "display_data"
    },
    {
     "data": {
      "image/png": "[encoded data removed]",
      "text/plain": [
       "<Figure size 432x288 with 1 Axes>"
      ]
     },
     "metadata": {
      "needs_background": "light"
     },
     "output_type": "display_data"
    }
   ],
   "source": [
    "plot(fSoln[:,4],fSoln[:,5])\n",
    "\n",
    "plot(fSoln[:,0],fSoln[:,1], 'or')\n",
    "figure()\n",
    "plot(fSoln[:,4], tpts)"
   ]
  },
  {
   "cell_type": "markdown",
   "metadata": {},
   "source": [
    "## Numerical integration of the 3-body problem\n",
    "\n",
    "Now let's extend our integrator to solve simultaneously for the orbits of three gravitationally interacting bodies.  \n",
    "\n",
    "### Two planets orbiting a central star\n",
    "#### Exercise 7.4 \n",
    "As you build your integrator, you will want to run it on a solvable problem so you can tell whether it is working correctly. Therefore, the first case you will look at is that of two planets orbiting a central star.  The star ($M_{1} = 2000$) is initially located at the origin.  The two planets ($M_{2} = M_{3} = 1$) should be set up to undergo  circular (or approximately circular) orbits with radii of 100 and 200, respectively.  Define your initial conditions in the cell below."
   ]
  },
  {
   "cell_type": "code",
   "execution_count": 27,
   "metadata": {},
   "outputs": [],
   "source": [
    "# Defining constants\n",
    "gGrav = 1 ### FIX\n",
    "epsilon = 1 #### FIX\n",
    "\n",
    "# Masses\n",
    "m1 = 2000 #### FIX\n",
    "m2 = 1 #### FIX\n",
    "m3 = 1 #### FIX\n",
    "\n",
    "# UNCOMMENT AND FILL IN initial conditions below\n",
    "#Initial Conditions\n",
    "\n",
    "r1_0 =  array([0,0])\n",
    "drDt1_0 = array([0,0])\n",
    "\n",
    "\n",
    "\n",
    "r2_0 = array([0,100])\n",
    "r2_0_r = findDist(r1_0[0],r1_0[1],0,r2_0[0],r2_0[1],0)\n",
    "r2_0_v = (gGrav*m1/r2_0_r)**.5\n",
    "drDt2_0 = array([r2_0_v,0])\n",
    "\n",
    "\n",
    "r3_0 = array([0,200])\n",
    "r3_0_r = findDist(r1_0[0],r1_0[1],0,r3_0[0],r3_0[1],0)\n",
    "r3_0_v = (gGrav*m1/r3_0_r)**.5\n",
    "drDt3_0 =  array([r3_0_v,0])"
   ]
  },
  {
   "cell_type": "markdown",
   "metadata": {},
   "source": [
    "Follow the set out steps outlined below to build your 3-body integrator. For now, we will still confine all motion to the x-y plane.  \n",
    "\n",
    "* Paste your 2-body integration from above (`deriv_2body_2D`) into the cell below. \n",
    "* Rename it as `deriv_3body_2D`\n",
    "* Update it to provide the correct position and velocity vector of a 3rd body of mass $M_{3}$, as well.   \n"
   ]
  },
  {
   "cell_type": "code",
   "execution_count": 28,
   "metadata": {},
   "outputs": [],
   "source": [
    "# Define deriv_3body_2D below:\n",
    "#You'll need xDoubleDot and yDoubleDot defined for each body (6 acceleration definitions).\n",
    "\n",
    "# define my bois\n",
    "def deriv_3body_2D(f,t): \n",
    "    \n",
    "    x_1 = f[0]\n",
    "    y_1 = f[1]\n",
    "    \n",
    "    dxDt_1 = f[2]\n",
    "    dyDt_1 = f[3]\n",
    "    \n",
    "    x_2 = f[4]\n",
    "    y_2 = f[5]\n",
    "    \n",
    "    dxDt_2 = f[6]\n",
    "    dyDt_2 = f[7]\n",
    "    \n",
    "    x_3 = f[8]\n",
    "    y_3 = f[9]\n",
    "    \n",
    "    dxDt_3 = f[10]\n",
    "    dyDt_3 = f[11]\n",
    "    \n",
    "    #Derivative definitions\n",
    "    distance13 = findDist(x_1, y_1, 0, x_3, y_3, 0)\n",
    "    distance12 = findDist(x_1, y_1, 0, x_2, y_2, 0)\n",
    "    distance23 = findDist(x_2, y_2, 0, x_3, y_3, 0)\n",
    "    # Students fill in below:\n",
    "    \n",
    "    d2xDt1_2 = -(gGrav*m2/(distance12+epsilon)**3)*(x_1 - x_2) \n",
    "    d2yDt1_2 = -(gGrav*m2/(distance12+epsilon)**3)*(y_1 - y_2)\n",
    "\n",
    "    d2xDt2_1 = -(gGrav*m1/(distance12+epsilon)**3)*(x_2 - x_1)\n",
    "    d2yDt2_1 = -(gGrav*m1/(distance12+epsilon)**3)*(y_2 - y_1)\n",
    "\n",
    "    d2xDt3_1 = -(gGrav*m1/(distance13+epsilon)**3)*(x_3 - x_1)\n",
    "    d2yDt3_1 = -(gGrav*m1/(distance13+epsilon)**3)*(y_3 - y_1)\n",
    "    \n",
    "    d2xDt1_3 = -(gGrav*m3/(distance13+epsilon)**3)*(x_1 - x_3)\n",
    "    d2yDt1_3 = -(gGrav*m3/(distance13+epsilon)**3)*(y_1 - y_3)\n",
    "    \n",
    "    d2xDt3_2 = -(gGrav*m2/(distance23+epsilon)**3)*(x_3 - x_2) \n",
    "    d2yDt3_2 = -(gGrav*m2/(distance23+epsilon)**3)*(y_3 - y_2)\n",
    "\n",
    "    d2xDt2_3 = -(gGrav*m3/(distance23+epsilon)**3)*(x_2 - x_3)\n",
    "    d2yDt2_3 = -(gGrav*m3/(distance23+epsilon)**3)*(y_2 - y_3)\n",
    "    \n",
    "    #addition\n",
    "    \n",
    "    d2xDt1_12_13 =  d2xDt1_2 + d2xDt1_3\n",
    "    d2yDt1_12_13 =  d2yDt1_2 + d2yDt1_3\n",
    "    \n",
    "    d2xDt2_21_23 =  d2xDt2_1 + d2xDt2_3\n",
    "    d2yDt2_21_23 =  d2yDt2_1 + d2yDt2_3\n",
    "    \n",
    "    d2xDt3_31_32 = d2xDt3_1 + d2xDt3_2\n",
    "    d2yDt3_31_32 = d2yDt3_1 + d2yDt3_2\n",
    "  \n",
    "\n",
    "    return array([dxDt_1, dyDt_1, d2xDt1_12_13, d2yDt1_12_13, \n",
    "                  dxDt_2, dyDt_2, d2xDt2_21_23, d2yDt2_21_23,\n",
    "                  dxDt_3, dyDt_3, d2xDt3_31_32, d2yDt3_31_32],  float)\n",
    "\n",
    "\n",
    "\n",
    "\n",
    "\n",
    "\n",
    "\n"
   ]
  },
  {
   "cell_type": "code",
   "execution_count": 29,
   "metadata": {},
   "outputs": [],
   "source": [
    "# Integrate your equation of motion from t = 0 to t = 1000 with 1000000 steps.\n",
    "# HINT: It may take a while to integrate, so try using a shorter time period (0 < t < 10) until you are sure everything is working.\n",
    "# BE SURE to update f_init to reflect that there are now three bodies!\n",
    "fInit = [r1_0[0],r1_0[1],drDt1_0[0],drDt1_0[1],\n",
    "         r2_0[0],r2_0[1],drDt2_0[0],drDt2_0[1],\n",
    "         r3_0[0],r3_0[1],drDt3_0[0],drDt3_0[1]]\n",
    "tpts = linspace(0,421,100000)\n",
    "fSoln = odeint(deriv_3body_2D, fInit, tpts)\n"
   ]
  },
  {
   "cell_type": "code",
   "execution_count": 30,
   "metadata": {},
   "outputs": [
    {
     "data": {
      "text/plain": [
       "[<matplotlib.lines.Line2D at 0xcafce80>]"
      ]
     },
     "execution_count": 30,
     "metadata": {},
     "output_type": "execute_result"
    },
    {
     "data": {
      "image/png": "[encoded data removed]",
      "text/plain": [
       "<Figure size 432x288 with 1 Axes>"
      ]
     },
     "metadata": {
      "needs_background": "light"
     },
     "output_type": "display_data"
    }
   ],
   "source": [
    "# Plot the trajectories (x,y) for each of the 3 masses on the same set of axes\n",
    "# Also create plots of x vs. t for planets M1, M2 and M3\n",
    "\n",
    "plot(fSoln[:,4],fSoln[:,5], 'g')\n",
    "plot(fSoln[:,8], fSoln[:,9])\n",
    "plot(fSoln[:,0],fSoln[:,1], 'or')"
   ]
  },
  {
   "cell_type": "markdown",
   "metadata": {},
   "source": [
    "### Mystery System\n",
    "#### Exercise 7.5\n",
    "\n",
    "Let's apply our new 3-body integrator to a more physically interesting problem. Try running your integrator again with the following initial conditions:\n",
    "* $M_{1} = M_{2} = 1000$\n",
    "* $M_{3} = 1$\n",
    "* $r_{1} = $[0.5, 0, 0]\n",
    "* $v_{1} = $[0, $\\sqrt{500}$, 0]\n",
    "* $r_{2} = $[-0.5, 0, 0]\n",
    "* $v_{2} = $[0, -$\\sqrt{500}$, 0]\n",
    "* $r_{3} = $[10,0,0]\n",
    "* $v_{3} = $[0,$\\sqrt{200}$,0]\n",
    "\n",
    "Integrate the equations of motion for a long enough period of time to see multiple orbits of each  \n",
    "object, and plot the trajectories of all three objects on the same set of axes.  \n",
    "\n",
    "***Write a description of the physical system these initial conditions correspond to:***"
   ]
  },
  {
   "cell_type": "code",
   "execution_count": 31,
   "metadata": {},
   "outputs": [],
   "source": [
    "# Defining constants\n",
    "gGrav = 1 ### FIX\n",
    "epsilon = 0.1 #### FIX\n",
    "\n",
    "# Masses\n",
    "m1 = 1000 #### FIX\n",
    "m2 = 1000 #### FIX\n",
    "m3 = 1 #### FIX\n",
    "\n",
    "\n",
    "\n",
    "# UNCOMMENT AND FILL IN initial conditions below\n",
    "#Initial Conditions\n",
    "\n",
    "r1_0 = array([.5,0,0])  \n",
    "drDt1_0 = array([0,500**.5,0])\n",
    "\n",
    "r2_0 = array([-.5,0,0])\n",
    "drDt2_0 = array([0,-(500**.5),0])\n",
    "\n",
    "r3_0 = array([10,0,0])\n",
    "drDt3_0 = array([0,200**.5,0])\n",
    "\n",
    "\n"
   ]
  },
  {
   "cell_type": "code",
   "execution_count": 32,
   "metadata": {},
   "outputs": [],
   "source": [
    "# Integrate your equation of motion\n",
    "\n",
    "#tpts = linspace(0, 1000, 100000)\n",
    "\n",
    "fInit = [r1_0[0],r1_0[1],drDt1_0[0],drDt1_0[1],\n",
    "         r2_0[0],r2_0[1],drDt2_0[0],drDt2_0[1],\n",
    "         r3_0[0],r3_0[1],drDt3_0[0],drDt3_0[1]]\n",
    "\n",
    "fSoln = odeint(deriv_3body_2D, fInit, tpts)\n",
    "\n"
   ]
  },
  {
   "cell_type": "code",
   "execution_count": 33,
   "metadata": {},
   "outputs": [
    {
     "data": {
      "text/plain": [
       "[<matplotlib.lines.Line2D at 0x14675240>]"
      ]
     },
     "execution_count": 33,
     "metadata": {},
     "output_type": "execute_result"
    },
    {
     "data": {
      "image/png": "[encoded data removed]",
      "text/plain": [
       "<Figure size 432x288 with 1 Axes>"
      ]
     },
     "metadata": {
      "needs_background": "light"
     },
     "output_type": "display_data"
    }
   ],
   "source": [
    "# Plots go here\n",
    "plot(fSoln[:,4],fSoln[:,5], 'g')\n",
    "plot(fSoln[:,8], fSoln[:,9])\n",
    "plot(fSoln[:,0],fSoln[:,1], 'or')\n"
   ]
  },
  {
   "cell_type": "markdown",
   "metadata": {},
   "source": [
    "### Plotting in the center-of-mass frame of reference\n",
    "\n",
    "You have probably noticed an interesting precession effect.  While we start the three masses in orbits that should take place (approximately) centered on the origin, their mutual gravitational interactions slowly carry them off in one direction over time -- the exact direction will depend on exactly how you chose your initial conditions. Essentially, because of the initial conditions, the system has some non-zero momentum, which causes the center of mass to move.\n",
    "\n",
    "We can make our plots look much nicer by transforming to a coordinate system where the center of mass remains fixed at the origin.  \n",
    "\n",
    "#### Exercise 7.6\n",
    "Define two new arrays, `x_com` and `y_com` to track the location of the center of mass of the 3-body system, and then plot the trajectories of the three masses on the same set of axes.  If you have done this correctly, you should find that the precession effect has disappeared."
   ]
  },
  {
   "cell_type": "code",
   "execution_count": 34,
   "metadata": {},
   "outputs": [
    {
     "data": {
      "text/plain": [
       "[<matplotlib.lines.Line2D at 0x148632e8>]"
      ]
     },
     "execution_count": 34,
     "metadata": {},
     "output_type": "execute_result"
    },
    {
     "data": {
      "image/png": "[encoded data removed]",
      "text/plain": [
       "<Figure size 432x288 with 1 Axes>"
      ]
     },
     "metadata": {
      "needs_background": "light"
     },
     "output_type": "display_data"
    }
   ],
   "source": [
    "#x_com =\n",
    "#y_com =\n",
    "\n",
    "# COM Plotting\n",
    "x_com = (m1*fSoln[:,0] + m2*fSoln[:,4] + m3*fSoln[:,8])/(m1+m2+m3)\n",
    "y_com = (m1*fSoln[:,1] + m2*fSoln[:,5] + m3*fSoln[:,9])/(m1+m2+m3)\n",
    "\n",
    "\n",
    "# track\n",
    "plot(fSoln[:,4] - x_com[:],fSoln[:,5] - y_com[:], 'g')\n",
    "plot(fSoln[:,8] - x_com[:], fSoln[:,9] - y_com[:],)\n",
    "plot(fSoln[:,0] - x_com[:],fSoln[:,1] - y_com[:], 'r')\n"
   ]
  },
  {
   "cell_type": "markdown",
   "metadata": {},
   "source": [
    "### Making a movie!\n",
    "\n",
    "#### Exercise 7.7\n",
    "Now let's take a true look at the motion of the three masses.  Fill in the code below to create a movie of the orbital motion."
   ]
  },
  {
   "cell_type": "code",
   "execution_count": 15,
   "metadata": {},
   "outputs": [
    {
     "name": "stdout",
     "output_type": "stream",
     "text": [
      "Using matplotlib backend: Qt5Agg\n",
      "Populating the interactive namespace from numpy and matplotlib\n"
     ]
    }
   ],
   "source": [
    "# Movie\n",
    "\n",
    "%pylab\n",
    "# get rid of inline plotting -- movies won't work if they're run within the notebook\n",
    "\n",
    "# create an x-y grid for plotting.  Choose appropriate x and y limits on your axes.\n",
    "fig=figure()\n",
    "ax = axes(xlim=[-15,15], ylim=[-15,15])\n",
    "grid()\n",
    "\n",
    "# Fill in expressions for the coordinates of each object (i.e. x1 = fSoln[:,0])\n",
    "\n",
    "x1 =fSoln[:,0]\n",
    "y1 =fSoln[:,1]\n",
    "\n",
    "x2 = fSoln[:,4]\n",
    "y2 = fSoln[:,5]\n",
    "\n",
    "x3 = fSoln[:,8]\n",
    "y3 = fSoln[:,9]\n",
    "\n",
    "\n",
    "# plot orbital trajectories in the x-y plane\n",
    "\n",
    "plt.plot(x3-x_com,y3-y_com, color='red')\n",
    "plt.plot(x2-x_com,y2-y_com, color='blue')\n",
    "plt.plot(x1-x_com,y1-y_com, color='green')\n",
    "\n",
    "# initialize plotting of the positions of m1 and m2\n",
    "# also plot the position of the center of mass\n",
    "m3_position,= ax.plot([],[], 'ro', ms=6)\n",
    "m2_position,= ax.plot([],[], 'b*', ms=10)\n",
    "m1_position, = ax.plot([],[], 'g*', ms=10)\n",
    "\n",
    "\n",
    "# FuncAnimation requires an initialization function.  This just\n",
    "# lets FuncAnimation know that this line reference is the one to use\n",
    "# The function does no plotting since set_data is empty.\n",
    "def init():\n",
    "    m1_position.set_data([], [])\n",
    "    m2_position.set_data([], [])\n",
    "    m3_position.set_data([], [])\n",
    "    return m1_position, m2_position, m3_position\n",
    "\n",
    "# function used in the FuncAnimation\n",
    "def animate(i):\n",
    "    # This makes the plot, by moving data into lines's set_data method\n",
    "    \n",
    "    j=i*10  # Animate every 10 points\n",
    "    \n",
    "    m3_position.set_data(x3[j]-x_com[j],y3[j]-y_com[j]) \n",
    "    m2_position.set_data(x2[j]-x_com[j],y2[j]-y_com[j])\n",
    "    m1_position.set_data(x1[j]-x_com[j],y1[j]-y_com[j]) \n",
    "    \n",
    "    return m1_position, m2_position, m3_position\n",
    "\n",
    "num_frames = 200  # Animate 200 framces\n",
    "\n",
    "# for blit True, plot only changes from previous plot to speed up plot calls\n",
    "# blit must be False on osx (changing the backend will also work, but this is easier)\n",
    "# use non-inline plots for animation on osx\n",
    "anim= animation.FuncAnimation(fig, animate, init_func=init, frames=num_frames, blit=False)\n"
   ]
  },
  {
   "cell_type": "code",
   "execution_count": null,
   "metadata": {},
   "outputs": [],
   "source": [
    "# put back inline plotting\n",
    "%pylab inline "
   ]
  },
  {
   "cell_type": "markdown",
   "metadata": {},
   "source": [
    "### Something a little different\n",
    "\n",
    "#### Exercise 7.8\n",
    "So far, you have just looked at stable configurations. These are actually rare in a 3-body system. Try changing the initial conditions until you get an unstable orbit. (Reducing the velocity of M_3 makes some fun plots.)\n",
    "\n",
    "You are welcome to either copy and paste your code from exercise 6.5 (and possibly 6.6) below. Or you can just alter the initial conditions in exercise 6.5 and rerun your code, provided you put it back to as it was before you submit your lab. Regardless, state what masses you used and your initial conditions ***here***.\n",
    "\n",
    "\n",
    "\n",
    "***Changing m-3 velocity to sqrt(97) causes the orbits to double back on themselves. The oribt did not loop over itself.***\n",
    "\n"
   ]
  },
  {
   "cell_type": "markdown",
   "metadata": {},
   "source": [
    "## Check-out\n",
    "#### Exercise 7.9\n",
    "\n",
    "Briefly summarize in the cell below the ideas in today's lab."
   ]
  },
  {
   "cell_type": "markdown",
   "metadata": {
    "collapsed": true
   },
   "source": [
    "We looked at orbits, 2 body and 3 body systems, seeing how the relative masses impacted the x and y center of mass coordinates. We also observed stable and unstable orbits. Finally, we learned how to animate a system."
   ]
  },
  {
   "cell_type": "markdown",
   "metadata": {
    "collapsed": true
   },
   "source": [
    "## Challenge Problems\n",
    "\n",
    "If you finish early, here are some additional exercises to attempt:  \n",
    "* Play around with your integrations of two planets orbiting a single star and find  \n",
    " configurations with unstable 2-planet orbits. \n",
    "* Examine conservation of energy for the 3-body systems that we modeled today\n",
    "* 3-body 3-D integrator – Extend your 3-body integrator to solve the equations of motion in 3-D  \n",
    " and examine the motion along the z-axis. \n",
    "* Lagrange points are special locations where a small test mass will orbit the Sun with  \n",
    " exactly the same orbital period as the Earth.  Look up (google) the location of these  \n",
    " points, and generate a movie of the Earth/Sun system with a third low-mass object orbiting  \n",
    " at a Lagrange point."
   ]
  },
  {
   "cell_type": "code",
   "execution_count": null,
   "metadata": {},
   "outputs": [],
   "source": []
  }
 ],
 "metadata": {
  "kernelspec": {
   "display_name": "Python 3",
   "language": "python",
   "name": "python3"
  },
  "language_info": {
   "codemirror_mode": {
    "name": "ipython",
    "version": 3
   },
   "file_extension": ".py",
   "mimetype": "text/x-python",
   "name": "python",
   "nbconvert_exporter": "python",
   "pygments_lexer": "ipython3",
   "version": "3.6.7"
  }
 },
 "nbformat": 4,
 "nbformat_minor": 1
}
