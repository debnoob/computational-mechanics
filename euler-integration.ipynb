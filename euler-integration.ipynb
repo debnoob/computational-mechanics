{
 "cells": [
  {
   "cell_type": "code",
   "execution_count": 1,
   "metadata": {},
   "outputs": [
    {
     "name": "stdout",
     "output_type": "stream",
     "text": [
      "Populating the interactive namespace from numpy and matplotlib\n"
     ]
    }
   ],
   "source": [
    "%pylab inline\n",
    "import numpy as np\n"
   ]
  },
  {
   "cell_type": "markdown",
   "metadata": {},
   "source": [
    "# Mechanics Lab IIa -- Numerical Integration Applied to Projectile Motion\n",
    "\n",
    "In this lab you will use a program to numerically integrate in order to solve a differential equation. Specifically, you'll be using your numerical integrator to solve the trajectory of a projectile. Before you learn about numerical integration, though, you'll need to learn a few new progaming tools: conditional statements, loops, and functions.\n",
    "\n",
    "## Objectives\n",
    "In this lab, you will \n",
    "\n",
    "* combine conditionals with logic statements to add decisions to programs;\n",
    "* use loops to repeat actions;\n",
    "* define your own functions;\n",
    "* use simple Euler integration to find the trajectory of a projectile;\n",
    "* and improve your simple Euler integration method by calculating the derivatives half-way between time-steps.\n",
    " \n",
    "\n",
    "## New programming tools\n",
    "\n",
    "### Logic and conditional statements\n",
    "\n",
    "In order to write useful code, you will want to have your program behave differently in different situtations. To accomplish this, your program will 1) need to be able to evaluate whether certain conditions are satisfied and 2) evaluate different code depending on the whether they are or are not satisfied.\n",
    "\n",
    "Logical and comparison operators test allow us to test whether variables satisfy certain conditions. Comparison between two or more variables can be made using the following symbols\n",
    "* \\>, < (\"greater than\" and \"less than\") \n",
    "* \\>=, <= (\"greater than or equal to\" and \"less than or equal to\"\n",
    "* ==, != (\"equal to\" or \"not equal to\") Note that a single equals sign assigns the value of the variable on the right to the variable on the left. Two equal signs are needed for a comparison.\n",
    "\n",
    "Multiple conditions can be combined together using\n",
    "* and (if both the operands are true then condition becomes true)\n",
    "* or (if any of the two operands are true then condition becomes true) and \n",
    "* not (used to reverse the logical state of its operand, for instance, a true statement becomes false.)\n",
    "\n",
    "Parentheses may be used to specify the order of operations."
   ]
  },
  {
   "cell_type": "code",
   "execution_count": 2,
   "metadata": {},
   "outputs": [
    {
     "name": "stdout",
     "output_type": "stream",
     "text": [
      "False True\n",
      "True\n",
      "True\n",
      "False\n",
      "True True False False\n",
      "True\n"
     ]
    }
   ],
   "source": [
    "# Examples of how to use conditional statements\n",
    "##### DO THIS: before running this cell, predict the outcomes of each of the statements.\n",
    "\n",
    "a = 10\n",
    "b = 20\n",
    "c = 30\n",
    "\n",
    "print(a == b, a <=b) # False, True\n",
    "print(a < b and b < c) # True\n",
    "print((a < b) or (c < b)) # True\n",
    "print((a < b) and not(b < c)) # False\n",
    "print(not False, not 0, not True, not 1) # True, True, False, False\n",
    "print(not (False and a < 20)) #True\n",
    "\n",
    "##### DO THIS: change the values of a, b, and c and then rerun this cell."
   ]
  },
  {
   "cell_type": "markdown",
   "metadata": {},
   "source": [
    "Once your program has evaluated whether a condition is true or false, it must make a decision to execute different code. This is done using *if* and *if ... else* statements, as shown below. In these statements, the condition (e.g. a == 10) is separated from the outcome by a colon and indentation is used to separate the code inside the if statement from the rest of the code.\n",
    "\n",
    "if statement\n",
    "> if expression:\n",
    "\n",
    "> &nbsp;&nbsp;&nbsp;&nbsp;&nbsp;&nbsp;  statement(s)\n",
    "\n",
    "if ... else statement\n",
    "> if expression:\n",
    "\n",
    "> &nbsp;&nbsp;&nbsp;&nbsp;&nbsp;&nbsp;  statement(s)\n",
    "\n",
    "> else:\n",
    "\n",
    "> &nbsp;&nbsp;&nbsp;&nbsp;&nbsp;&nbsp;  statement(s)"
   ]
  },
  {
   "cell_type": "code",
   "execution_count": 3,
   "metadata": {},
   "outputs": [
    {
     "name": "stdout",
     "output_type": "stream",
     "text": [
      "a equals 10\n",
      "a equals 10\n",
      "hooray\n",
      "name1 is not Carlos.\n",
      "Who is it?\n",
      "name1 is Alice\n",
      "Alice and Bob are both here.\n"
     ]
    }
   ],
   "source": [
    "# Examples of \"if\" and \"if ... else\" statements.\n",
    "##### DO THIS: before running this cell, predict the outcomes of each of the statements.\n",
    "\n",
    "a = 10\n",
    "\n",
    "# If the outcome consists of only a single line of code, it may go on the same line as the if statement.    \n",
    "#  prints \"a equals 10\"\n",
    "if a == 10 : print(\"a equals 10\") \n",
    "\n",
    "# If the outcome consists of multiple lines of code, it is separated from the rest of the code by indentation.\n",
    "# prints \"a equals 10 hooray\"\n",
    "if a == 10 : \n",
    "    print(\"a equals 10\") \n",
    "    print(\"hooray\")\n",
    "\n",
    "#Once the if statement is done, the left-justification of the code returns to as it was before.\n",
    "name1 = \"Alice\"\n",
    "\n",
    "# will print name1 is not Carlos Who is it?\n",
    "#\"if ... else\" statements allow the programmer to specify an outcome if the condition is not met.\n",
    "if name1 == \"Carlos\" : print(\"name1 is Carlos\") \n",
    "else : \n",
    "    print(\"name1 is not Carlos.\")\n",
    "    print(\"Who is it?\")\n",
    "\n",
    "# will print name1 is Alic\n",
    "# \"elif\" can be used to check multiple conditions. \n",
    "if name1 == \"Carlos\" : print(\"name1 is Carlos\") \n",
    "elif name1 == \"Alice\" : print(\"name1 is Alice\") \n",
    "else : \n",
    "    print(\"name1 is not Carlos or Alice.\")\n",
    "    print(\"Who is it?\")\n",
    "#Note that if the if statement evaluates to \"true\" the \"elif\" statement will not be evaluated.\n",
    "    \n",
    "# will print Alice and Bob are both here.\n",
    "#Multiple if and if...else statements may be nested together to create more complex conditionals.\n",
    "name2 = \"Bob\"\n",
    "if name1 == \"Alice\" :\n",
    "    if name2 == \"Bob\" : print(\"Alice and Bob are both here.\")\n",
    "    else : print(\"Alice is here but where is Bob?\")\n",
    "else : print(\"We are missing Alice.\")\n",
    "    \n",
    "##### DO THIS: change the values of a, name1, and name2 and reevaluate this cell."
   ]
  },
  {
   "cell_type": "markdown",
   "metadata": {},
   "source": [
    "#### Exercise 2.1\n",
    "\n",
    "In the cell below, use nested if else statements to write code that will compare three variables, a, b and c, and produce the following outcomes: \n",
    "* print \"a is False\" if a equals 0; \n",
    "* print \"a is the greatest\" if a is not equal to zero and a is greater than b and c; \n",
    "* and print \"a is less than or equal to b or c\" and print the values of each of the variables if a is less than or equal to either b or c. \n",
    "\n",
    "Set a, b and c equal to different values to test that your code produces the expected results."
   ]
  },
  {
   "cell_type": "code",
   "execution_count": 4,
   "metadata": {},
   "outputs": [
    {
     "name": "stdout",
     "output_type": "stream",
     "text": [
      "a is the greatest\n"
     ]
    }
   ],
   "source": [
    "# Exercise 2.1\n",
    "a = 40\n",
    "b = 20\n",
    "c = 30\n",
    "\n",
    "##### Your code here\n",
    "if a == 0: print(\"a is False\")\n",
    "elif a > b and a > c: print(\"a is the greatest\")\n",
    "else:\n",
    "    print(\"a is less than or equalto b or c\")\n",
    "    print(\"A: \",a,\"B: \", b, \"C: \", c)\n"
   ]
  },
  {
   "cell_type": "markdown",
   "metadata": {},
   "source": [
    "### Loops\n",
    "\n",
    "In other situations, you will want your program to complete the same actions multiple times. Loops are the way to accomplish this sort of task.\n",
    "\n",
    "*For loops* enable you to iterate through each item in an array (or list or string). The syntax looks like\n",
    "\n",
    "> for iterating_var in sequence:\n",
    "\n",
    "> &nbsp;&nbsp;&nbsp;&nbsp;&nbsp;&nbsp; statement(s)\n",
    "\n",
    "As with if statements, the colon separates the statement(s) from the condition and indentation is used to separate the code inside the loop from that outside of it. An example is below."
   ]
  },
  {
   "cell_type": "code",
   "execution_count": 5,
   "metadata": {},
   "outputs": [
    {
     "name": "stdout",
     "output_type": "stream",
     "text": [
      "0\n",
      "1\n",
      "4\n",
      "9\n",
      "16\n",
      "25\n"
     ]
    }
   ],
   "source": [
    "# Example for loop\n",
    "##### DO THIS: before running this cell, predict the outcome.\n",
    "\n",
    "iterator = np.arange(0, 6, 1) #create an array from zero to five (inclusive) in steps of 1.\n",
    "\n",
    "for i in iterator:\n",
    "    print(i**2) #print the squared value of each element in the array\n",
    "\n",
    "# prediction: print 0, 1, 4, 9, 16, 25"
   ]
  },
  {
   "cell_type": "markdown",
   "metadata": {},
   "source": [
    "Sometimes you will want to stop iterating (i.e., break out of the loop) before you have gone through each item in the array. A \"break\" statement inserted into the loop (typically used with an if statement) will do this for you, as shown below.\n"
   ]
  },
  {
   "cell_type": "code",
   "execution_count": 6,
   "metadata": {},
   "outputs": [
    {
     "name": "stdout",
     "output_type": "stream",
     "text": [
      "0\n",
      "1\n",
      "4\n",
      "9\n"
     ]
    }
   ],
   "source": [
    "# Example for loop with a break\n",
    "##### DO THIS: before running this cell, predict the outcome.\n",
    "\n",
    "iterator = np.arange(0, 6, 1) #create an array from zero to five (inclusive) in steps of 1.\n",
    "\n",
    "for i in iterator:\n",
    "    if i**2 > 10 : break #if i squared is greater than 10, break out of the loop\n",
    "    print(i**2) #print the squared value of each element in the array\n",
    "\n",
    "#prediction: Loop will print 0,1,4,9"
   ]
  },
  {
   "cell_type": "markdown",
   "metadata": {},
   "source": [
    "There is much more that could be said about loops. For example, in addition to for loops, python also supports *while loops* (loops which are iterated until a condition is met instead of through an entire array). Loops can also be nested inside each other (similarly to if statements) to allow one to iterate through multiple variables at once. You are encouraged to research both of those ideas as they come up in lab, but for now you know enough to get started.\n",
    "\n",
    "#### Exercise 2.2\n",
    "\n",
    "Write a loop that will iterate through an array, outputting for each element in the array the sum of it and all previous elements. Break out of the loop if your sum ever exceeds 50. Test your loop on an array that goes from 0 to 20 in steps of two. You should find that it stops iterating when it reaches 56. \n",
    "\n",
    "*Hint*: consider defining a variable that will be updated inside of the loop."
   ]
  },
  {
   "cell_type": "code",
   "execution_count": 7,
   "metadata": {},
   "outputs": [
    {
     "name": "stdout",
     "output_type": "stream",
     "text": [
      "0\n",
      "2\n",
      "6\n",
      "12\n",
      "20\n",
      "30\n",
      "42\n",
      "56\n"
     ]
    }
   ],
   "source": [
    "# Exercise 2.2\n",
    "#### Your code here\n",
    "\n",
    "# setup an array from 0 to 20 with increments of 2\n",
    "array = np.arange(0,20,2)\n",
    "\n",
    "# set a global variable at 0\n",
    "totalsum = 0\n",
    "\n",
    "# iterate through elements of the array\n",
    "for i in array:\n",
    "    # if the total sum is greater than 50\n",
    "    if (totalsum > 50):\n",
    "        break\n",
    "    else:\n",
    "        totalsum = i + totalsum \n",
    "        print(totalsum)"
   ]
  },
  {
   "cell_type": "markdown",
   "metadata": {},
   "source": [
    "### Functions\n",
    "\n",
    "In other situations, you may want to repeat the same operations in different contexts. Defining your own functions allow you to do this without writing the same code over again. In programming, repetitive code is bad -- not only does repetition clutter your code, making it harder to read, repetition also makes your code harder to debug and harder to update. \n",
    "\n",
    "Python comes with a huge number of built-in functions, many of which you are already using (e.g. print(), arange(), linspace(), and len()). Each of these functions preforms some action and may return a value. For example, len() returns the length of the array. Functions frequently take parameters or arguments, which are listed inside the parentheses. For example, len() takes an array as its argument. Therefore, when I write\n",
    "\n",
    "> x = len(array)\n",
    "\n",
    "I am calling the function len() with the argument of *array*. The len() function does some magic to determine the number of elements in *array* and returns that value, which *x* is then set to. When you define your own functions, you will call them the same way.\n",
    "\n",
    "#### Defining a function\n",
    "\n",
    "Many times, python will not have a built-in function that accomplishes what you want so you will have to define your own function. To define a function, you must follow a specific form:\n",
    "\n",
    "* The function block begins with the keyword *def* followed by the function name and then a pair of parentheses. \n",
    "\n",
    "* Any input parameters or arguments are listed inside the parentheses. If the function does not take any parameters or arguments, the parentheses are left empty.\n",
    "\n",
    "* A colon separates the function header from the code block and the entire code block is indented.\n",
    "\n",
    "* The statement *return [expression]* exits a function, optionally passing back an expression to the caller. A return statement with no arguments is the same as returning nothing.\n",
    "\n",
    "As a result, your function will look like\n",
    "\n",
    "> def function_name ( parameters ) : \n",
    "\n",
    "> &nbsp;&nbsp;&nbsp;&nbsp;&nbsp;&nbsp; statement(s)\n",
    "\n",
    "> &nbsp;&nbsp;&nbsp;&nbsp;&nbsp;&nbsp; return [expression]\n",
    "\n",
    "and will be called like\n",
    "\n",
    "> function_name(parameters)"
   ]
  },
  {
   "cell_type": "code",
   "execution_count": 8,
   "metadata": {},
   "outputs": [
    {
     "name": "stdout",
     "output_type": "stream",
     "text": [
      "Hello  Dave\n",
      "Hello  Chase, Gyan\n"
     ]
    }
   ],
   "source": [
    "# Example of a simple user-defined functions\n",
    "\n",
    "def say_hello( name ): # Define the function \"say_hello\" that takes one argument, \"name\".\n",
    "    print(\"Hello \", name) \n",
    "    return # End the function and return nothing\n",
    "\n",
    "say_hello(\"Dave\")\n",
    "\n",
    "#### DO THIS: add a line of code to call the say_hello function with your name\n",
    "\n",
    "say_hello(\"Chase, Gyan\")\n"
   ]
  },
  {
   "cell_type": "code",
   "execution_count": 9,
   "metadata": {},
   "outputs": [
    {
     "name": "stdout",
     "output_type": "stream",
     "text": [
      "5.09901951359\n"
     ]
    },
    {
     "data": {
      "text/plain": [
       "5.3851648071345037"
      ]
     },
     "execution_count": 9,
     "metadata": {},
     "output_type": "execute_result"
    }
   ],
   "source": [
    "# Example of a slightly more complex function\n",
    "\n",
    "def find_distance( point1, point2 ): \n",
    "#Define a function to determine the distance between two points (which may have any number of dimensions).\n",
    "    # If point1 and point2 are both integers, the distance between them is just the absolute value of their difference\n",
    "    if (type(point1) == int and type(point2) == int) : \n",
    "        return abs(point1 - point2)\n",
    "    \n",
    "    # If the function is called with two arrays that do not have the same number of elements, \n",
    "    # print an error and exit gracefully\n",
    "    if len(point1) != len(point2) : \n",
    "        print(\"The two points do not have the same dimension\")\n",
    "        return 0 # End the function early and return zero\n",
    "    \n",
    "    # If point1 and point2 are arrays of the same length, iterate through each element\n",
    "    dist = 0\n",
    "    for index in arange(0,len(point1),1): #calling a for loop in this way will iterate through each index in the array\n",
    "        dist = dist + (point1[index] - point2[index])**2\n",
    "    dist = sqrt(dist)\n",
    "    return dist\n",
    "\n",
    "p1 = [1,2]\n",
    "p2 = [2,7]\n",
    "print(find_distance(p1,p2))\n",
    "\n",
    "#### Test this function by calling it with different arguments. \n",
    "p1 = [3,6]\n",
    "p2 = [5,1]\n",
    "\n",
    "find_distance(p1,p2)\n",
    "# See if you can come up with arguments which will result in each of the three different return statements."
   ]
  },
  {
   "cell_type": "markdown",
   "metadata": {},
   "source": [
    "#### Exercise 2.3\n",
    "\n",
    "Write a function that will solve a 1-D constant-acceleration, kinematic problem. Your function should take an initial position, an initial velocity, an acceleration, and a time and return the position after that time. Test your function by running it with a variety of different parameters, including x0 = 2, v0 = 1, accel = -10, and t = 3 (which should produce -40).\n"
   ]
  },
  {
   "cell_type": "code",
   "execution_count": 10,
   "metadata": {},
   "outputs": [
    {
     "name": "stdout",
     "output_type": "stream",
     "text": [
      "-40.0  m\n"
     ]
    }
   ],
   "source": [
    "# Exercise 2.3\n",
    "#### Your code here\n",
    "\n",
    "# setup problem variables\n",
    "x0 = 2\n",
    "v0 = 1\n",
    "accel = -10\n",
    "t = 3\n",
    "\n",
    "\n",
    "# defining r(t)\n",
    "def kinematics( x0, v0, accel, t ):\n",
    "    x = x0 + (v0*t) + (0.5*accel*t**2)\n",
    "    return x\n",
    "\n",
    "# spit out the value\n",
    "print(kinematics(x0, v0, accel, t),' m')"
   ]
  },
  {
   "cell_type": "markdown",
   "metadata": {},
   "source": [
    "One of the beautiful things about functions is that they are their own little environments. This means that any variable defined inside the function will not be available outside of the function. Such variable are considered *local variables* in contrast to *global variables*, which are defined outside of functions and available everywhere. Where a given variable is available is referred to as the *scope* of the variable. An example is below."
   ]
  },
  {
   "cell_type": "code",
   "execution_count": 11,
   "metadata": {},
   "outputs": [
    {
     "name": "stdout",
     "output_type": "stream",
     "text": [
      "I'm inside the function! globalvar_a equals  1\n",
      "var_b equals  3\n",
      "localvar_c equals  4\n",
      "I'm outside the function! globalvar_a equals  1\n",
      "var_b equals  2\n"
     ]
    },
    {
     "ename": "NameError",
     "evalue": "name 'localvar_c' is not defined",
     "output_type": "error",
     "traceback": [
      "\u001b[1;31m---------------------------------------------------------------------------\u001b[0m",
      "\u001b[1;31mNameError\u001b[0m                                 Traceback (most recent call last)",
      "\u001b[1;32m<ipython-input-11-27e90250246b>\u001b[0m in \u001b[0;36m<module>\u001b[1;34m()\u001b[0m\n\u001b[0;32m     24\u001b[0m \u001b[1;33m\u001b[0m\u001b[0m\n\u001b[0;32m     25\u001b[0m \u001b[1;31m#### DO THIS: uncomment the following line\u001b[0m\u001b[1;33m\u001b[0m\u001b[1;33m\u001b[0m\u001b[0m\n\u001b[1;32m---> 26\u001b[1;33m \u001b[0mprint\u001b[0m\u001b[1;33m(\u001b[0m\u001b[1;34m\"localvar_c equals \"\u001b[0m\u001b[1;33m,\u001b[0m\u001b[0mlocalvar_c\u001b[0m\u001b[1;33m)\u001b[0m\u001b[1;33m\u001b[0m\u001b[0m\n\u001b[0m\u001b[0;32m     27\u001b[0m \u001b[1;31m# Since lovalvar_c was only defined inside the function, it is not available outside of it.\u001b[0m\u001b[1;33m\u001b[0m\u001b[1;33m\u001b[0m\u001b[0m\n",
      "\u001b[1;31mNameError\u001b[0m: name 'localvar_c' is not defined"
     ]
    }
   ],
   "source": [
    "# Example of local vs global variables\n",
    "##### DO THIS: before running this cell, predict the outcome.\n",
    "\n",
    "# Defining two \"global\" variables. These two variables will be available everywhere\n",
    "globalvar_a = 1\n",
    "var_b = 2\n",
    "\n",
    "#This function will print the values of two variables\n",
    "def scope_function1():\n",
    "    var_b = 3\n",
    "    localvar_c = 4\n",
    "    print(\"I'm inside the function! globalvar_a equals \", globalvar_a) \n",
    "    # Since globalvar_a is defined outside of a funtion, it is available everywhere\n",
    "    print(\"var_b equals \", var_b)\n",
    "    print(\"localvar_c equals \",localvar_c)\n",
    "    return\n",
    "\n",
    "scope_function1()\n",
    "print(\"I'm outside the function! globalvar_a equals \", globalvar_a)\n",
    "print(\"var_b equals \", var_b) \n",
    "# Even though var_b was modified inside the function, var_b outside the function is unchanged\n",
    "# What happened is that the line \"var_b = 3\" actually defined a local copy of the variable inside of the function, rather than\n",
    "# altering the global variable var_b.\n",
    "\n",
    "#### DO THIS: uncomment the following line\n",
    "print(\"localvar_c equals \",localvar_c)\n",
    "# Since lovalvar_c was only defined inside the function, it is not available outside of it."
   ]
  },
  {
   "cell_type": "markdown",
   "metadata": {},
   "source": [
    "As you can see, keeping track of the scope of variables can get confusing. To keep things clean, it is smart to never modify in a function any variable that was defined outside of the function, *unless* it was passed as a parameter.\n",
    "\n",
    "#### Exercise 2.4\n",
    "For this exercise, you will practice putting together the skills you have learned by writing code to approximate the function ln(1 + x) as a series. As you may have discovered in lab 1, by using Taylor series we can show that\n",
    "\n",
    "$$ ln(1+x) = x - \\frac{x^2}{2} + \\frac{x^3}{3} - \\frac{x^4}{4} + \\frac{x^5}{5} - . . . $$\n",
    "\n",
    "On a piece of paper, verify that the above equation is true.\n",
    "\n",
    "Your goal is to write code that will determine how many elements of the series are needed to approximate ln(1+x) to a certain level of precision, given a value of x. To do this\n",
    "\n",
    "* define a function that will return the nth element of the series, given the parameters x and n;\n",
    "* write a for loop that will calculate the sum by calling your user-defined function, breaking when the sum of the series is within some $\\epsilon$ of the actual value of ln(1+x);\n",
    "* and use your loop to determine how many elements of the series were needed to achieve the desired level of precision.\n",
    "\n",
    "Please test your code with a variety of different values for $x$ and $\\epsilon$, including $x = 0.8$ and $\\epsilon = 0.001$ (which should result in 16).\n",
    "\n",
    "*Hint 1:* the smartest way to write code is to build it from smaller pieces. In this case, I suggest writing and testing your function before using it in the loop. \n",
    "\n",
    "*Hint 2:* printing off different variables inside your loop may help you determine if your code is working correctly.\n",
    "\n",
    "*Hint 3:* you'll have to look up the python function for natural log."
   ]
  },
  {
   "cell_type": "code",
   "execution_count": 12,
   "metadata": {},
   "outputs": [
    {
     "name": "stdout",
     "output_type": "stream",
     "text": [
      "0.587031700604 0.587786664902\n"
     ]
    }
   ],
   "source": [
    "# Exercise 2.4\n",
    "#### Your code here\n",
    "\n",
    "x = 0.8\n",
    "e = 0.001\n",
    "\n",
    "\n",
    "# define our taylor function\n",
    "def ourtaylor(x, n):\n",
    "    sum = 0\n",
    "    series = np.arange(1,n,1)\n",
    "    for i in series:\n",
    "        # setup our element\n",
    "        element = (x**i)/i\n",
    "        \n",
    "        # see if our increment value is even or odd\n",
    "        if (i%2 == 0):\n",
    "            sum = sum - element\n",
    "        else:\n",
    "            sum = sum + element\n",
    "        \n",
    "    # return the nth element of the series\n",
    "    return sum\n",
    "\n",
    "# calculate the sum of the series\n",
    "def taylor(x, e):    \n",
    "    precise = log(1+x)\n",
    "    counter = 1 #represents the nth order series \n",
    "    approximation = 0\n",
    "    \n",
    "    #loops until we are within the range of e\n",
    "    while abs(approximation - precise) >  e:\n",
    "        approximation = ourtaylor(x, counter)\n",
    "        counter = counter + 1 \n",
    "    print(approximation, precise)\n",
    "# run this function\n",
    "taylor(x,e)"
   ]
  },
  {
   "cell_type": "markdown",
   "metadata": {},
   "source": [
    "## Simple Euler integration of projectile motion\n",
    "\n",
    "Now that you have practiced writing conditional statements, loops, and functions, the rest of the lab will be spent learning how to use Euler integration, a method for numerically integrating to solve a differential equation.\n",
    "    \n",
    "The main idea of Euler integration is to use Taylor series approximations to cyclically update the position of a projectile by \n",
    "\n",
    "        1)applying a constant accleration for a small time interval to determine a new velocity  \n",
    "        \n",
    "        2)applying the new velocity for a small time interval to get the new position  \n",
    "        \n",
    "        3)Rinse and repeat 1) and 2)\n",
    "        \n",
    "Incidentally, this code will take a similar form to the code you wrote in exercise 2.4.\n",
    "        \n",
    "Note:  we will be using only 1st-order Taylor approximations here.\n",
    "\n",
    "We need to store x, vx, y, and vy at each point in time.  Rather than hold them as individual 1-dimensional arrays, let's use the following convention:  \n",
    "\n",
    "    r[0] will be the x position\n",
    "    r[1] will be the vx velocity\n",
    "    r[2] will be the y position\n",
    "    r[3] will be the vy velocity\n",
    "\n",
    "So this r vector contains four elements for each time step.  We'll create solutions on a vector of time points that we'll call tpts.\n",
    "Note that the complete solution will be found by pairing a time vector \"tpts\" with the solution vector r.\n",
    "\n",
    "### Using simple Euler integration\n",
    "\n",
    "The following cells will use 1st order Euler integration to find the trajectory of a projectile without drag force. You'll examine and run each of them in turn.\n",
    "\n",
    "#### Exercise 2.5\n",
    "\n",
    "The following cell will set the initial conditions and parameters for the system. Please edit it to set the following variables: $g = 9.8$ m s$^{-2}$, $m = 1$ kg, $\\alpha = 0$, $\\beta = 0$, $t_{start} = 0.0$ s, $t_{end} = 15.0$ s, and the number of time steps to 3000. Then edit it to define the initial conditions such that the projectile starts from (0,0) with velocity = (20,20)."
   ]
  },
  {
   "cell_type": "code",
   "execution_count": 18,
   "metadata": {},
   "outputs": [],
   "source": [
    "# Exercise 2.5\n",
    "# No damping, numerical integration, projectile motion over level ground: defining variables.\n",
    "\n",
    "# Here we define the variables that will be used throughout the integration\n",
    "g = 9.8 #the acceleration due to gravity.  By declaring it here it will be available anywhere in the rest of the notebook\n",
    "m = 1 # the mass of the projectile\n",
    "\n",
    "# Create \n",
    "tstart = 0 #starting time\n",
    "tend = 15 #ending time\n",
    "N = 3000 # #steps\n",
    "h = (tend-tstart)/N #  h is the time step, deltat\n",
    "tpts = np.arange(tstart,tend,h) # an array of evenly spaced time points at which to create solutions\n",
    "\n",
    "# Initialize x and v.  For a complete solution to the differential equations we need to specify the starting\n",
    "#values of x, vx, y and vy\n",
    "x0 = 0 #initial x position\n",
    "y0 = 0 #initial y position\n",
    "vx0 = 20 #initial x-component of the velocity\n",
    "vy0 = 20 #initial y-component of the velocity\n",
    "rinit = np.array([x0,vx0,y0,vy0],float) #this array contains the initial values of x, vx, y, vy, in order\n",
    "# Note that the list 0,20,0,20 is enclosed in square brackets\n",
    "\n",
    "\n",
    "##### DO THIS: add a line of code to print the variable h and the array tpts so that you can see what they contain.\n",
    "# After you have done so, remove the line of code and recompile the cell so that you don't clutter up the output."
   ]
  },
  {
   "cell_type": "markdown",
   "metadata": {},
   "source": [
    "In a 1st-order Euler integrator, the time derivative is used to propagate the motion forward by assuming $x(t + \\delta_t) \\approx x(t) + \\delta_t \\frac{dx(t)}{dt}$. The following cell defines a function to return the time derivative of all the variables. \n",
    "\n",
    "#### Exercise 2.6\n",
    "\n",
    "In order to examine how the derivative function works, add the following line to the end of the cell before you run it:\n",
    "\n",
    "    print(deriv(rinit,0))\n",
    "\n",
    "This line will call the derivative function for $t = 0$ and print the derivatives of $x$, $y$, $v_x$, and $v_y$. Convince yourself that the values printed are correct."
   ]
  },
  {
   "cell_type": "code",
   "execution_count": 19,
   "metadata": {},
   "outputs": [
    {
     "name": "stdout",
     "output_type": "stream",
     "text": [
      "[ 20.    0.   20.   -9.8]\n"
     ]
    }
   ],
   "source": [
    "# No damping, numerical integration, projectile motion over level ground: derivatives.\n",
    "\n",
    "# We need to define a function that returns the time derivatives of all the variables.\n",
    "\n",
    "#The syntax for this defined function is to use the reserved word *def*, then name the function.  In parentheses\n",
    "#go the variables (which are typically vectors and scalars).  Following the variables we put a colon.  The colon\n",
    "#tells the Python interpreter that the indented block that follows all falls under the scope of the defined\n",
    "#function.  Finally, the reserved word *return* tells us the output of the function.  In this case we have a new\n",
    "#set of r values, which are packaged as a 4-element list (x,vx,y,vy), using the numpy.array() function.  Recall \n",
    "#that the magic %pylab preloads numpy, so we don't actually have to write it as numpy.array(), but simply array()\n",
    "\n",
    "def deriv(r,t):\n",
    "    x = r[0]  #first, extract the variables from the r-list\n",
    "    vx = r[1]\n",
    "    y = r[2]\n",
    "    vy = r[3]\n",
    "    dxdt = vx #now create the derivatives.  Note:  by definition dxdt = vx\n",
    "    dvxdt = 0\n",
    "    dydt = vy\n",
    "    dvydt = - g\n",
    "    return np.array([dxdt, dvxdt, dydt, dvydt],float) #we need to specify the output of this function\n",
    "\n",
    "# Exercise 2.6\n",
    "#### Add the line of code to call the deriv function here.\n",
    "print(deriv(rinit,0))"
   ]
  },
  {
   "cell_type": "markdown",
   "metadata": {},
   "source": [
    "In order to continue propagating the trajectory forward in time, we'll need to loop through our entire array of times (tpts from two code cells ago). Each time we do so, we'll calculate the derivatives of position and velocity at the previous step and use them to find the new values of position and velocity. In order to keep track of all of the positions and velocities, we'll store them in a list to which we append each new value as it is calculated."
   ]
  },
  {
   "cell_type": "code",
   "execution_count": 20,
   "metadata": {
    "collapsed": true
   },
   "outputs": [],
   "source": [
    "#Now we can accumulate *lists* that hold the solutions.   We let each list accumulate in order to create x(t), vx{t},\n",
    "#y(t), vy(t)\n",
    "#Create the empty lists\n",
    "xpts = []  #this is an empty list that will hold x solutions\n",
    "vxpts = []  #this will hold vx solutions\n",
    "ypts = []  #y\n",
    "vypts = [] #vy\n",
    "\n",
    "r = rinit.copy()  #make a *copy* of rinit.  This leaves rinit unchanged, but allows r to take on different values\n",
    "\n",
    "#The engine:  initialize values, then step through with simple Euler method (uses a 1st-order Taylor series)\n",
    "for t in tpts:  #this *for* loop sequentially takes on all the elements of tpts, first to last\n",
    "    xpts.append(r[0])  #extend the list by tacking the latest x on to the end of it\n",
    "    vxpts.append(r[1]) #starting from r which is originally a copy of rinit\n",
    "    ypts.append(r[2])\n",
    "    vypts.append(r[3])\n",
    "    r += h*deriv(r,t) #update all 4 r vector elements by using a 1st order Taylor series expansion\n",
    "                            #in time, advanced by one time step h.\n",
    "            #In words:  a new 4-element r vector is created that takes the previous r vector and adds\n",
    "            #a piece that is the 1st-order Taylor approximation, using the derivatives from the deriv function\n",
    "            #applied to each one of the elements.  r += is shorthand for r = r +, i.e. use the old value of r\n",
    "            #to update the newest value of r.\n",
    "        \n",
    "        \n",
    "    if (t > 0.0)&(r[2]<=0.0):  # a test to see when to cut off the solution\n",
    "                               # (the & symbol indicates a logical AND:  both conditions need to be true)\n",
    "        tmax = t               # by noting when the projectile hits the ground\n",
    "      \n",
    "        range = r[0]           #store the last x position in the variable named range\n",
    "        break  #quit out of the loop\n",
    "        "
   ]
  },
  {
   "cell_type": "markdown",
   "metadata": {},
   "source": [
    "Now that we have completed the Euler integration, it is time to examine the the results. The following two blocks of code output interesting values and plot the trajectory."
   ]
  },
  {
   "cell_type": "code",
   "execution_count": 21,
   "metadata": {},
   "outputs": [
    {
     "name": "stdout",
     "output_type": "stream",
     "text": [
      "\n",
      "Projectile motion without air drag, over level ground:\n",
      "Initial speed = 28.28 m/s\n",
      "Launch angle = 45.00 degrees\n",
      "Time in air =  4.08 seconds\n",
      "Range = 81.8\n"
     ]
    },
    {
     "data": {
      "text/plain": [
       "<matplotlib.text.Text at 0x8172e48>"
      ]
     },
     "execution_count": 21,
     "metadata": {},
     "output_type": "execute_result"
    },
    {
     "data": {
      "image/png": "[encoded data removed]",
      "text/plain": [
       "<matplotlib.figure.Figure at 0x815fe10>"
      ]
     },
     "metadata": {},
     "output_type": "display_data"
    }
   ],
   "source": [
    "print(\"\\nProjectile motion without air drag, over level ground:\")\n",
    "print(\"Initial speed = {:5.2f} m/s\".format(sqrt(rinit[1]**2+rinit[3]**2)))\n",
    "print(\"Launch angle = {:5.2f} degrees\".format(180*arctan(rinit[3]/rinit[1])/pi))\n",
    "print(\"Time in air = {:5.2f} seconds\".format(tmax))\n",
    "print(\"Range =\", range) #print the range\n",
    "plot(xpts, ypts, '-r')  #plot the two lists (x,y) to show the trajectory of the projectile\n",
    "                #matplotlib allows you plot lists or vectors, so long as they have the same length   \n",
    "    \n",
    "title(\"Projectile motion no drag\\nvx ={:3.2f}, vy ={:3.2f}\".format(rinit[1],rinit[3]))\n",
    "                # \\n indicates \"new line\"\n",
    "                # \\t is \"tab\"\n",
    "                # \\r is \"carriage return\"\n",
    "                \n",
    "xlabel(\"distance (m)\")\n",
    "ylabel(\"height (m)\")"
   ]
  },
  {
   "cell_type": "markdown",
   "metadata": {},
   "source": [
    "That's all very well, but lists are inconvenient for scientific plotting, where you might want to adjust the scale or do some other manipulation (see below, where you need to compare your analytical to numerical solutions). The following block of code converts the lists to arrays and, again, plots the result."
   ]
  },
  {
   "cell_type": "code",
   "execution_count": 24,
   "metadata": {},
   "outputs": [
    {
     "data": {
      "text/plain": [
       "<matplotlib.text.Text at 0x8225ac8>"
      ]
     },
     "execution_count": 24,
     "metadata": {},
     "output_type": "execute_result"
    },
    {
     "data": {
      "image/png": "[encoded data removed]",
      "text/plain": [
       "<matplotlib.figure.Figure at 0x815f198>"
      ]
     },
     "metadata": {},
     "output_type": "display_data"
    }
   ],
   "source": [
    " # Convert all the lists to arrays like so:\n",
    "t_array = np.array(tpts,float)\n",
    "rx = np.array(xpts,float)\n",
    "ry = np.array(ypts,float)\n",
    "figure()  #this just gets us a new figure, otherwise we'll keep plotting atop the previous one\n",
    "plot(rx,ry)  #No surprises here--it should look identical to the previous figure (except perhaps the line color)\n",
    "title(\"Projectile motion no drag\\nvx ={:3.2f}, vy ={:3.2f}\".format(rinit[1],rinit[3]))            \n",
    "xlabel(\"distance (m)\")\n",
    "ylabel(\"height (m)\")"
   ]
  },
  {
   "cell_type": "markdown",
   "metadata": {},
   "source": [
    "### Accuracy of simple Euler integration\n",
    "\n",
    "Congratulations, you've now just walked through your first numerical integration. The next step is to examine its accuracy, something we can do easily by comparing the numerically-calculated trajectory to the analytic solution.\n",
    "\n",
    "#### Exercise 2.7\n",
    "\n",
    "For comparison, set up the analytical (exact) solution evaluated at the same time points and plot it over the numerical solution, along with a vector representing the difference between the y-values of the two solutions (called the residuals).\n",
    "\n",
    "*Hint:* You'll want to make sure that your numerical and analytical solutions have the same number of points, so that the y values of the numerical solution and the residuals can be plotted against the x values of the numerical solution. Remember that len() is the function that will return the length of an array.\n"
   ]
  },
  {
   "cell_type": "code",
   "execution_count": 55,
   "metadata": {},
   "outputs": [
    {
     "name": "stdout",
     "output_type": "stream",
     "text": [
      "Error:  0.1000825\n"
     ]
    },
    {
     "data": {
      "image/png": "[encoded data removed]",
      "text/plain": [
       "<matplotlib.figure.Figure at 0x9fe3860>"
      ]
     },
     "metadata": {},
     "output_type": "display_data"
    }
   ],
   "source": [
    "# Exercise 2.7, projectile motion, no damping\n",
    "# Plot analytical trajectory in blue, numerical trajectory in red.  Then create a vector \n",
    "npts = len(xpts)\n",
    "atArray = np.array(tpts[0:npts], float)\n",
    "realXpts = rinit[0] + rinit[1]*atArray\n",
    "realYpts = rinit[2] + rinit[3]*atArray - .5*9.8*(atArray**2)\n",
    "plot(realXpts, realYpts, 'b')  \n",
    "plot(rx,ry, 'r')\n",
    "title(\"Projectile motion no drag\\nvx ={:3.2f}, vy ={:3.2f}\".format(rinit[1],rinit[3]))            \n",
    "xlabel(\"distance (m)\")\n",
    "ylabel(\"height (m)\")\n",
    "ylim(bottom = 0);\n",
    "residual = abs(ypts - realYpts) \n",
    "plot(xpts, 100*residual, 'g')\n",
    "print(\"Error: \" ,residual[-1])\n",
    "\n",
    "\n",
    "# that represents the difference between these two y-values as a function of x, and plot 100* this difference vs x\n",
    "# in green.\n",
    "\n",
    "\n"
   ]
  },
  {
   "cell_type": "markdown",
   "metadata": {
    "collapsed": true
   },
   "source": [
    "#### Exercise 2.8\n",
    "\n",
    "You may note that there is a small linear error term that arises because of when and where we evaluate the derivatives. How big was the error term by the end of the calculation (when the projectile returned to y = 0)?\n",
    "\n",
    "##### Accumulated error = \n"
   ]
  },
  {
   "cell_type": "markdown",
   "metadata": {},
   "source": [
    "## Improving the Simple Euler Integration method\n",
    "\n",
    "We can reduce the amount of error introduced by using the simple Euler integration method if we choose a smarter place to evaluate our derivatives. The following blocks of code show how evaluating the derivatives *halfway in-between* the time steps greatly improves the accuracy.\n",
    "\n",
    "Consider the following simple quadratic function (incidentally, the solution to a 1-D constant acceration problem in which a = -1 and the projectile starts from y = 1 with v = 1.5)."
   ]
  },
  {
   "cell_type": "code",
   "execution_count": 59,
   "metadata": {},
   "outputs": [
    {
     "data": {
      "text/plain": [
       "[<matplotlib.lines.Line2D at 0x9fc9278>]"
      ]
     },
     "execution_count": 59,
     "metadata": {},
     "output_type": "execute_result"
    },
    {
     "data": {
      "image/png": "[encoded data removed]",
      "text/plain": [
       "<matplotlib.figure.Figure at 0xa1a9c18>"
      ]
     },
     "metadata": {},
     "output_type": "display_data"
    }
   ],
   "source": [
    "tpts = arange(0,2,0.01)\n",
    "y0 = 1.0\n",
    "v0 = 1.5\n",
    "a = -1.0\n",
    "y = y0 + v0*tpts + 0.5*a*tpts*tpts\n",
    "plot(tpts,y)"
   ]
  },
  {
   "cell_type": "markdown",
   "metadata": {
    "collapsed": true
   },
   "source": [
    "Now imagine trying to approximate that trajectory by using the local slope at t = 1.0 to take a single coarse step between t = 0 and t = 0.5. That's what what a simple Euler approximation with a stepsize of $\\delta_t$ = 0.5 would do, as demonstrated by the following block of code."
   ]
  },
  {
   "cell_type": "code",
   "execution_count": 58,
   "metadata": {
    "scrolled": true
   },
   "outputs": [
    {
     "name": "stdout",
     "output_type": "stream",
     "text": [
      "Simple Euler error:   0.125\n"
     ]
    },
    {
     "data": {
      "image/png": "[encoded data removed]",
      "text/plain": [
       "<matplotlib.figure.Figure at 0xa15bfd0>"
      ]
     },
     "metadata": {},
     "output_type": "display_data"
    }
   ],
   "source": [
    "figure()\n",
    "tpts = np.arange(0,0.80,0.01)  #set up the analytical solution for 1-dimensional constant acceleration problem\n",
    "y0 = 1.0\n",
    "v0 = 1.5\n",
    "a = -1.0\n",
    "y = y0 + v0*tpts + 0.5*a*tpts*tpts\n",
    "xrange=(0,0.5)\n",
    "yrange=(0,2)\n",
    "plot(tpts,y,'-b',)  #plot in blue, solid line\n",
    "\n",
    "#Now the usual numerical solution:\n",
    "h = 0.5  #the step size\n",
    "rinit = np.array([y0,v0],float) #this array contains the initial values of y, vy, in order\n",
    "\n",
    "def deriv(r,t):\n",
    "    y = r[0]\n",
    "    vy = r[1]\n",
    "    dydt = vy\n",
    "    dvydt =  a\n",
    "    return np.array([dydt, dvydt],float)\n",
    "\n",
    "ypts = []  #y\n",
    "vypts = [] #vy\n",
    "r = rinit.copy()  #make a *copy* of rinit.  This leaves init unchanged, but allows r to take on different values\n",
    "ypts.append(r[0])\n",
    "vypts.append(r[1])\n",
    "\n",
    "newtpts = (0, h) #we'll only look at 1 time step so there will be no for loop, and this solution will\n",
    "                 #be very coarsely plotted.\n",
    "r += h*deriv(r,t)  #this is y1 =(deltat)*(v0) + y0 and vy1= (deltat)*a\n",
    "ypts.append(r[0])\n",
    "vypts.append(r[1])\n",
    "\n",
    "plot(newtpts,ypts,'--r')  #plot extrapolated position to get y1 at t = h = 0.5 s\n",
    "title(\"Simple Euler step (red) and quadratic function (blue)\")\n",
    "yanalytical = y0 + v0*h + 0.5*a*h*h\n",
    "plot(newtpts,ypts,'ko')\n",
    "print(\"Simple Euler error:  \",r[0]-yanalytical ) #remember that r[0] contains the latest value of y\n"
   ]
  },
  {
   "cell_type": "markdown",
   "metadata": {
    "collapsed": true
   },
   "source": [
    "### Where might be a better place to evaluate the derivative?  \n",
    "The black dot at the end of the red dashed line represents the result of taking a whole step of h = 0.5, using the\n",
    "slope that was evaluated back at the origin.  The error in y (0.125) is the vertical distance between the black dot and the analytical solution at time h = 0.5.\n",
    "\n",
    "Let's take a half step (h/2 = 0.25 s).  Evaluate the derivatives there, and use those to correct the slopes for making the whole step.  You might recall the mean-value theorem from calculus, where the slope of the function matches the secant line somewhere in between its end points.  For quadratic functions, we'll see that this is exactly the right\n",
    "place for us to evaluate the derivatives."
   ]
  },
  {
   "cell_type": "code",
   "execution_count": 60,
   "metadata": {},
   "outputs": [
    {
     "name": "stdout",
     "output_type": "stream",
     "text": [
      "Half-step Euler error:  0.00000000000000e+00\n",
      "The solid red line is the trajectory of the step\n",
      "The black dot is the actual step that is taken over t = 0.5 s\n"
     ]
    },
    {
     "data": {
      "image/png": "[encoded data removed]",
      "text/plain": [
       "<matplotlib.figure.Figure at 0xa1a9470>"
      ]
     },
     "metadata": {},
     "output_type": "display_data"
    }
   ],
   "source": [
    "#The code below implements this Improved Euler, or Euler Half-Step Method\n",
    "\n",
    "figure()\n",
    "tpts = np.arange(0,0.80,0.01)  #set up the analytical solution for 1-dimensional constant acceleration problem\n",
    "y0 = 1.0\n",
    "v0 = 1.5\n",
    "a = -1.0\n",
    "y = y0 + v0*tpts + 0.5*a*tpts*tpts\n",
    "xrange=(0,0.5)\n",
    "yrange=(0,2)\n",
    "plot(tpts,y, '-b')\n",
    "\n",
    "#Now the new numerical solution:\n",
    "h = 0.5  #the step size\n",
    "rinit = np.array([y0,v0],float) #this array contains the initial values of y, vy, in order\n",
    "#k1=0 #This is a new variable \n",
    "\n",
    "def deriv(r,t): #Notice that the deriv function is the same as use used above for simple Euler\n",
    "    y = r[0]\n",
    "    vy = r[1]\n",
    "    dydt = vy\n",
    "    dvydt =  a\n",
    "    return np.array([dydt, dvydt],float)\n",
    "\n",
    "ypts = []  #y\n",
    "vypts = [] #vy\n",
    "r = rinit.copy()  #make a *copy* of rinit.  This leaves rinit unchanged, but allows r to take on different values\n",
    "ypts.append(r[0])\n",
    "vypts.append(r[1])\n",
    "\n",
    "newtpts = np.array([0, h],float)\n",
    "k1= (h/2)*deriv(r,t) #evaluate the increment on the half step, i.e. the midpoint function at the half step.\n",
    "r += h*deriv(r+k1,t) #this is the whole step after sniffing out the derivatives at the midpoint\n",
    "ypts.append(r[0])\n",
    "vypts.append(r[1])\n",
    "\n",
    "plot(newtpts,ypts,'-r')  #plot extrapolated position to get y1 at t = h = 0.5 s\n",
    "plot(newtpts,ypts,'ko')\n",
    "\n",
    "title(\"Illustration of the Improved Euler Method\")\n",
    "print(\"Half-step Euler error:  {:15.14e}\".format(r[0]-yanalytical) )\n",
    "print(\"The solid red line is the trajectory of the step\")\n",
    "print(\"The black dot is the actual step that is taken over t = 0.5 s\")"
   ]
  },
  {
   "cell_type": "markdown",
   "metadata": {},
   "source": [
    "So now we know that there is a better time step at which to evaluate the derivatives before making the full step.  By\n",
    "*substituting* these lines inside your integration loop we make the Euler Half Step, or Improved Euler method: \n",
    "\n",
    "    k1= (h/2)*deriv(r,t) # evaluate the increment on the half step, i.e. the midpoint function at the half step.\n",
    "    r += h*deriv(r+k1,t) # this is the whole step after sniffing out the derivatives at the midpoint\n",
    "\n",
    "#### Exercise 2.9\n",
    "\n",
    "Modify the simple Euler projectile motion integration from earlier in this notebook to use this Improved Euler method. To do this, you'll want to copy the relevent blocks of code from above into the cell below. You may use as few or as many code cells as you like. *Hint: I suggest making sure your copied code produces results for simple Euler integration before modifying it for improved Euler.*\n",
    "\n",
    "As before, compare your result with the analytical solution when the projectile hits the ground.  What's the error now?  If you've done everything correctly, you'll find that the error array will need to be multiplied by a *big* number to display in a useful fashion on the same plot as the trajectory.\n",
    "\n",
    "##### Accumulated Error (Improved Euler) = \n"
   ]
  },
  {
   "cell_type": "code",
   "execution_count": 76,
   "metadata": {},
   "outputs": [
    {
     "name": "stdout",
     "output_type": "stream",
     "text": [
      "Error:  4.0983882954e-13\n"
     ]
    },
    {
     "data": {
      "image/png": "[encoded data removed]",
      "text/plain": [
       "<matplotlib.figure.Figure at 0xa4c0a20>"
      ]
     },
     "metadata": {},
     "output_type": "display_data"
    }
   ],
   "source": [
    "# Exercise 2.9 Projectile motion, improved Euler\n",
    "# No damping, numerical integration \n",
    "def deriv(r,t):\n",
    "    x = r[0]  #first, extract the variables from the r-list\n",
    "    vx = r[1]\n",
    "    y = r[2]\n",
    "    vy = r[3]\n",
    "    dxdt = vx #now create the derivatives.  Note:  by definition dxdt = vx\n",
    "    dvxdt = 0\n",
    "    dydt = vy\n",
    "    dvydt = - g\n",
    "    return np.array([dxdt, dvxdt, dydt, dvydt],float)\n",
    "\n",
    "tstart = 0 #starting time\n",
    "tend = 15 #ending time\n",
    "N = 3000 # #steps\n",
    "h = (tend-tstart)/N #  h is the time step, deltat\n",
    "tpts = np.arange(tstart,tend,h) # an array of evenly spaced time points at which to create solutions\n",
    "\n",
    "# Initialize x and v.  For a complete solution to the differential equations we need to specify the starting\n",
    "#values of x, vx, y and vy\n",
    "x0 = 0 #initial x position\n",
    "y0 = 0 #initial y position\n",
    "vx0 = 20 #initial x-component of the velocity\n",
    "vy0 = 20 #initial y-component of the velocity\n",
    "rinit = np.array([x0,vx0,y0,vy0],float) #this array contains the initial values of x, vx, y, vy, in order\n",
    "# Note that the list 0,20,0,20 is enclosed in square brackets\n",
    "xpts = []  #this is an empty list that will hold x solutions\n",
    "vxpts = []  #this will hold vx solutions\n",
    "ypts = []  #y\n",
    "vypts = [] #vy\n",
    "\n",
    "r = rinit.copy()  #make a *copy* of rinit.  This leaves rinit unchanged, but allows r to take on different values\n",
    "\n",
    "#The engine:  initialize values, then step through with simple Euler method (uses a 1st-order Taylor series)\n",
    "for t in tpts:  #this *for* loop sequentially takes on all the elements of tpts, first to last\n",
    "    xpts.append(r[0])  #extend the list by tacking the latest x on to the end of it\n",
    "    vxpts.append(r[1]) #starting from r which is originally a copy of rinit\n",
    "    ypts.append(r[2])\n",
    "    vypts.append(r[3])\n",
    "    \n",
    "    k1= (h/2)*deriv(r,t) # evaluate the increment on the half step, i.e. the midpoint function at the half step.\n",
    "    r += h*deriv(r+k1,t) # this is the whole step after sniffing out the derivatives at the midpoint\n",
    "        \n",
    "        \n",
    "    if (t > 0.0)&(r[2]<=0.0):  # a test to see when to cut off the solution\n",
    "                               # (the & symbol indicates a logical AND:  both conditions need to be true)\n",
    "        tmax = t               # by noting when the projectile hits the ground\n",
    "      \n",
    "        range = r[0]           #store the last x position in the variable named range\n",
    "        break  #quit out of the loop\n",
    "\n",
    "plot(xpts,ypts)\n",
    "residual = abs(ypts - realYpts[0:-1]) \n",
    "plot(xpts, 10**13*residual, 'g')\n",
    "print(\"Error: \" ,residual[-1])\n"
   ]
  },
  {
   "cell_type": "markdown",
   "metadata": {},
   "source": [
    "## Check-out\n",
    "#### Exercise 2.10\n",
    "\n",
    "Briefly summarize in the cell below the ideas of today's lab."
   ]
  },
  {
   "cell_type": "markdown",
   "metadata": {
    "collapsed": true
   },
   "source": [
    "We learned how to do loops, conditionals, and functions in Python. We also learned how to find Taylor series using functions and loops.\n",
    "\n",
    "Finally, we saw the difference between the basic and advanced Euler methods. The basic Euler had an error of about 10%, while the advanced Euler had an error ~4.1 x 10^-13, which was significantly lower."
   ]
  },
  {
   "cell_type": "markdown",
   "metadata": {},
   "source": [
    "## Challenge Problems\n",
    "\n",
    "There are no challenge problems today. However, you are welcome to start on lab 2, part b. That lab will apply the same code you have developed today to the case of projectile motion with drag."
   ]
  },
  {
   "cell_type": "code",
   "execution_count": null,
   "metadata": {
    "collapsed": true
   },
   "outputs": [],
   "source": []
  }
 ],
 "metadata": {
  "kernelspec": {
   "display_name": "Python 3",
   "language": "python",
   "name": "python3"
  },
  "language_info": {
   "codemirror_mode": {
    "name": "ipython",
    "version": 3
   },
   "file_extension": ".py",
   "mimetype": "text/x-python",
   "name": "python",
   "nbconvert_exporter": "python",
   "pygments_lexer": "ipython3",
   "version": "3.6.1"
  }
 },
 "nbformat": 4,
 "nbformat_minor": 1
}
