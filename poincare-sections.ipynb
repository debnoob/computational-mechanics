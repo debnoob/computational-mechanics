{
 "cells": [
  {
   "cell_type": "markdown",
   "metadata": {},
   "source": [
    "# Mechanics Lab 12 -- Phase space and Poincaré sections\n",
    "So far, we have primarily looked at $\\phi$(t) vs t.  Plotting the momentum conjugate of $\\phi$(t) vs. $\\phi$(t) gives us a completely different and, in many ways, more informative way to look at the motion. (Note: For DDP, the momentum conjugate of $\\phi$(t) is just the angular momentum. You will learn more about conjugate momentum later in the semester.)\n",
    "\n",
    "## Objectives\n",
    "\n",
    "In this lab you will \n",
    "* construct phase space diagrams and Poincaré sections for the damped driven pendulum system;\n",
    "* identify signatures of the non-chaotic, period doubling, and chaotic behavior in phase space diagrams and Poincare sections;\n",
    "* produce a Poincaré section showing a strange attractor and determine what parameters effect it.\n"
   ]
  },
  {
   "cell_type": "code",
   "execution_count": null,
   "metadata": {
    "collapsed": true
   },
   "outputs": [],
   "source": [
    "%pylab inline\n",
    "from scipy.integrate import odeint  # import the differential equation integrator\n",
    "from scipy.interpolate import UnivariateSpline"
   ]
  },
  {
   "cell_type": "code",
   "execution_count": null,
   "metadata": {
    "collapsed": true
   },
   "outputs": [],
   "source": []
  },
  {
   "cell_type": "markdown",
   "metadata": {},
   "source": [
    "## Set up\n",
    "### Exercise 12.1\n",
    "\n",
    "Since we are working once again with a damped driven pendulum, start by copying over your `deriv()` and your `solveDDP()` functions from last week's lab (Lab 11). Then numerically find the solution to a damped driven pendulum with $\\phi$(t = 0) = -$\\pi$/2 and d$\\phi$/dt (t = 0) = 0 for 0 < t < 30. As in last week's exercise, set the angular frequency of the driving force ($\\Omega_D$) to 2$\\pi$, producing a drive period of $2 \\pi / \\Omega_D = 1$ s. Set the natural frequency ($\\omega_0$) to 1.5$\\Omega_D$, and set the damping constant ($\\beta = \\frac{\\omega_0}{4}$. You will be varying the drive strength ($\\gamma_D$) but for now set it to **$\\gamma_D = 0.7$**. Let the mass of the pendulum and the length of the pendulum be 1 (in the appropriate units).  Look over your `solveDDP()` function and modify it, if necessary, to use fixed time steps, e.g., $\\Delta t = 0.01$. You may choose to use `arange()` rather than `linspace()` to form your time array to make it easier to choose $\\Delta t$. Later, when we carry the integration for longer times, we can keep the same resolution, but increase the total number of steps."
   ]
  },
  {
   "cell_type": "code",
   "execution_count": null,
   "metadata": {
    "collapsed": true
   },
   "outputs": [],
   "source": [
    "# deriv() and solveDDP()\n",
    "omegaD = #FIX\n",
    "omega0 = #FIX\n",
    "betaD = #FIX\n",
    "periodD = #FIX\n",
    "\n",
    "m = #FIX\n",
    "l = #FIX\n",
    "\n",
    "def derivDDP  #FIX\n",
    "\n",
    "def solveDDP  #FIX\n"
   ]
  },
  {
   "cell_type": "markdown",
   "metadata": {},
   "source": [
    "## Phase Space\n",
    "\n",
    "#### Exercise 12.2\n",
    "Plot both $\\phi$ vs. t and the corresponding phase space plot."
   ]
  },
  {
   "cell_type": "code",
   "execution_count": 1,
   "metadata": {
    "collapsed": true
   },
   "outputs": [],
   "source": [
    "# Plots for gamma = 0.7\n",
    "\n"
   ]
  },
  {
   "cell_type": "markdown",
   "metadata": {},
   "source": [
    "#### Exercise 12.3\n",
    "In Lab 11, we learned that under certain conditions, identical systems started with different initial conditions will exhibit the same oscillatory motion after a transient. This type of motion is called an attractor because the system gets \"attracted\" to that motion. \n",
    "\n",
    "In the space below, explain how the attractor at $\\gamma = 0.7$ is apparent in both plots in Ex. 12.2. You may want to display your phase space after eliminating the transient. That period of time is easily identified from the time series $\\phi$ vs. t.\n",
    "\n",
    "    \\\n",
    "    \\\n",
    "    \\"
   ]
  },
  {
   "cell_type": "markdown",
   "metadata": {},
   "source": [
    "#### Exercise 12.4\n",
    "Remake both plots for a value of $\\gamma$ = 1.070."
   ]
  },
  {
   "cell_type": "code",
   "execution_count": null,
   "metadata": {
    "collapsed": true
   },
   "outputs": [],
   "source": [
    "# Plots for gamma = 1.070\n",
    "\n"
   ]
  },
  {
   "cell_type": "markdown",
   "metadata": {},
   "source": [
    "#### Exercise 12.5\n",
    "Using $\\gamma$ = 1.070 produces \"period doubling.\" Explain how period doubling appears in both graphs in Ex. 12.4.\n",
    "\n",
    "    \\\n",
    "    \\\n",
    "    \\"
   ]
  },
  {
   "cell_type": "markdown",
   "metadata": {},
   "source": [
    "#### Exercise 12.6\n",
    "Continue to get a feel for phase-space. Repeat the two graphs for $\\gamma = 1.100$. Can you find a version of phase space that, when plotted after the transient has passed, reveals a structure you can identify? What if you pick a longer maxTime and then eliminate a longer transient from your phase space portrait?"
   ]
  },
  {
   "cell_type": "code",
   "execution_count": null,
   "metadata": {
    "collapsed": true
   },
   "outputs": [],
   "source": [
    "# Plots for gamma = 1.100\n",
    "\n"
   ]
  },
  {
   "cell_type": "markdown",
   "metadata": {},
   "source": [
    "In general, simply plotting angular momentum vs. angle will produce nice phase-space diagrams for low values of gamma.  As we increase gamma, though, we can run into problems.  \n",
    "\n",
    "#### Exercise 12.7\n",
    "For example, try producing a phase space for $\\gamma$ = 1.500. Qualitatively describe the motion of the pendulum.\n",
    "\n",
    "    \\\n",
    "    \\\n",
    "    \\\n",
    "    \\"
   ]
  },
  {
   "cell_type": "code",
   "execution_count": null,
   "metadata": {
    "collapsed": true
   },
   "outputs": [],
   "source": [
    "# Plots for gamma = 1.500\n",
    "\n"
   ]
  },
  {
   "cell_type": "markdown",
   "metadata": {},
   "source": [
    "In order to get a more usable phase space diagram, we will want to limit $\\phi$ to between -$\\pi$ and +$\\pi$.  For example, if our numerical solution gives us a value of $\\phi$ = $\\pi$ + 1 we would like our plot to interpret that as -$\\pi$ + 1.  Similarly, $\\phi$ = 2$\\pi$ + 1 should be interpreted as $\\phi$ = 1.  \n",
    "\n",
    "#### Exercise 12.8\n",
    "Adjust your code to produce both plots so that the values plotted on the $\\phi$ axis range between -$\\pi$ and +$\\pi$. Then verify your code by including plots for $\\phi$ vs t and d$\\phi$/dt vs $\\phi$ for $\\gamma$ = 1.400.\n",
    "*Hint: the modulo operation will be particularly helpful for this.*"
   ]
  },
  {
   "cell_type": "code",
   "execution_count": null,
   "metadata": {
    "collapsed": true
   },
   "outputs": [],
   "source": [
    "# Plots for gamma = 1.400\n",
    "\n"
   ]
  },
  {
   "cell_type": "markdown",
   "metadata": {},
   "source": [
    "#### Exercise 12.9\n",
    "What is the source of the horizontal lines across your phase space plot? Can you write a function that gets rid of them? (Inserting np.nan, for example, in the right places.)\n",
    "\n",
    "    \\\n",
    "    \\\n",
    "    \\"
   ]
  },
  {
   "cell_type": "markdown",
   "metadata": {},
   "source": [
    "## Poincaré Sections\n",
    "So far, our phase space diagrams have been very simple.  However, once we enter the chaotic regime, they can get complicated fast.  Therefore, we are going to introduce another new tool: Poincaré sections.  Rather than plotting the entire phase space orbit, Poincaré sections only plot the position in phase space *once every period*.  This is analogous to a bifurcation diagram where the $\\phi$ value every period is plotted against $\\gamma$.  The difference is that here we will plot angular momentum versus angle every period, rather than just the angle every period versus the forcing.\n",
    "\n",
    "**Exercise 12.10**: \n",
    "\n",
    "Based on your previous phase space plot (Exercise 12.1) for $\\gamma$ = 0.700, predict what the Poincaré section will look like.\n",
    "\n",
    "    \\\n",
    "    \\\n",
    "    \\"
   ]
  },
  {
   "cell_type": "markdown",
   "metadata": {},
   "source": [
    "In order to plot the Poincaré section, you will need to know the values of phi and phiDot at specific times. Because the times you want may not have been included in your time array, you'll need to interpolate across data points. A \"spline\" function is the easiest way to do this, and if you have started your homework for this week, you'll be familiar with the spline function. I've included an example below."
   ]
  },
  {
   "cell_type": "code",
   "execution_count": null,
   "metadata": {
    "collapsed": true
   },
   "outputs": [],
   "source": [
    "from scipy.interpolate import UnivariateSpline\n",
    "\n",
    "#In these next two lines, I will just define some test data\n",
    "x = np.linspace(0, 10, num=11, endpoint=True)\n",
    "y = np.cos(-x**2/9.0)\n",
    "\n",
    "# This call creates the spline fit to the function. \n",
    "# The first value in the function call is your x data, \n",
    "# the second is your y data.\n",
    "# The values of k = 5,s = 0 were chosen to make the fit; \n",
    "# k = 5 tells it do a fifth degree polynomial fit, \n",
    "# and s = 0 tells it go through all the data points.\n",
    "spl = UnivariateSpline(x,y,k = 5,s = 0)\n",
    "# The next two lines of code uses the above spline fit \n",
    "# to interpolate the value of y at the given x values.\n",
    "x_fit = [0.5,3.7,4.8] #define the list of values I want to find y values for\n",
    "y_fit = spl([0.5,3.7,4.8])\n",
    "print(y_fit)\n",
    "\n",
    "#To demonstrate the accuracy of the fit, I'll plot both the data points given, the theoretical curve connecting them, \n",
    "# and the interpolated values\n",
    "plot(x,y,'x') #Data points\n",
    "plot(np.linspace(0, 10, num=110, endpoint=True),np.cos(-np.linspace(0, 10, num=110, endpoint=True)**2/9.0)) #Theoretical curve connecting data points\n",
    "plot(x_fit,y_fit,'o') #interpolated values"
   ]
  },
  {
   "cell_type": "markdown",
   "metadata": {},
   "source": [
    "#### Exercise 12.11\n",
    "\n",
    "Create a Poincaré section for $\\gamma$ = 0.700. To do this, use a spline fit to find the values of $\\phi$(t) and $m l \\dot\\phi$(t) over all time. Then create an array of numbers from 20 to 60 in steps of the drive period: $\\Delta t = 2\\pi/\\Omega_D$. Since the spline fits, `phiFit` and `angMomFit`, are smoothed functions over your original time array, you can use the number array as indices to create a new array of the values every drive period from $t = 20$ to $t = 60$ s, e.g. `phiFit(indices)`.\n",
    "\n",
    "Starting at $t = 20$, rather than $t = 0$ means that transient behavior is eliminated. You still have to modify your `phiFit(indices)` values to lie between $-\\pi$ and $\\pi$ as you did in Ex. 12.8. Then plot (as points, rather than a line) your angular momentum spline  vs your modulo $\\phi$ spline at those discrete time steps. Set your axis range to $-\\pi < \\phi < \\pi$ and $-15 < m l \\dot\\phi < 15$ so that it will be easily comparable to your plot from Exercise 12.2.\n",
    "\n",
    "Hint:  when using the plot command, the smallest marker is a single pixel, designated by a `','`.  Slightly larger markers are designated with a `'.'` and a *kwarg* marker size (`ms = 4`, for example).  Some options:\n",
    "\n",
    "```python\n",
    "plot(x, y, ',k')            #black dot (single pixel)\n",
    "plot(x, y, '.b')            #blue dot, small\n",
    "plot(x, y, '.r', ms = 4)    #red dot, medium\n",
    "plot(x, y, ',g', ms = 100)  #green dot (single pixel; ms is ignored)\n",
    "```"
   ]
  },
  {
   "cell_type": "code",
   "execution_count": null,
   "metadata": {
    "collapsed": true
   },
   "outputs": [],
   "source": [
    "# Poincaré plot for gamma = 0.7\n",
    "\n"
   ]
  },
  {
   "cell_type": "markdown",
   "metadata": {},
   "source": [
    "#### Exercise 12.12\n",
    "Is your Poincaré section what you expected? Explain.\n",
    "    \n",
    "    \\\n",
    "    \\\n",
    "    \\"
   ]
  },
  {
   "cell_type": "markdown",
   "metadata": {},
   "source": [
    "#### Exercise 12.13\n",
    "For each of $\\gamma$  = 1.078, 1.081, and 1.105 generate a phase space plot and predict what the Poincaré section will look like.  Then, generate the Poincaré section. Include all of your plots and predictions below. Adjust your axes ranges (or `xlim()` and `ylim()`) and `tMax` to produce good plots."
   ]
  },
  {
   "cell_type": "code",
   "execution_count": null,
   "metadata": {
    "collapsed": true
   },
   "outputs": [],
   "source": [
    "# Phase space and Poincaré plots for gamma = 1.078, 1.081, and 1.105\n",
    "\n"
   ]
  },
  {
   "cell_type": "markdown",
   "metadata": {},
   "source": [
    "## Strange Attractors\n",
    "\n",
    "As you would imagine, things get very exciting in the chaotic regime. You'll start by looking at the system for $\\beta$=$\\frac{\\omega_0}{8}$ and $\\gamma$ = 1.500.\n",
    "\n",
    "#### Exercise 12.14 \n",
    "First plot $\\phi$ vs t and the phase diagram for the above values."
   ]
  },
  {
   "cell_type": "code",
   "execution_count": null,
   "metadata": {
    "collapsed": true
   },
   "outputs": [],
   "source": [
    "# Phase Space diagram\n",
    "\n"
   ]
  },
  {
   "cell_type": "markdown",
   "metadata": {},
   "source": [
    "#### Exercise 12.15\n",
    "Now plot the Poincaré section. Clip your transient behavior for t < 20. Keep on increasing the maximum time until you get a pattern you like and/or it starts taking too long to run. *Hint: to plot a very small point, use `','` to indicate the marker in the plot function. You can also increase your figure size by using a command like this: `figure(figsize=(12, 8))`."
   ]
  },
  {
   "cell_type": "code",
   "execution_count": 1,
   "metadata": {
    "collapsed": true
   },
   "outputs": [],
   "source": [
    "# Poincaré section\n",
    "\n"
   ]
  },
  {
   "cell_type": "markdown",
   "metadata": {},
   "source": [
    "Initially, it seemed like there was no underlying structure to the motion of a chaotic pendulum.  Now, however, we see that there is.  The pattern you have produced is called a \"strange attractor,\" something typical of chaotic systems.  Although not very evident here, strange attractors have a fractal structure."
   ]
  },
  {
   "cell_type": "markdown",
   "metadata": {},
   "source": [
    "#### Exercise 12.16\n",
    "Do you expect the Poincaré Diagram to change if you try different initial conditions?  How so? Test your prediction.\n",
    "\n",
    "\\\n",
    "\n",
    "\\\n",
    "\n",
    "\\\n",
    "\n",
    "\\"
   ]
  },
  {
   "cell_type": "code",
   "execution_count": null,
   "metadata": {
    "collapsed": true
   },
   "outputs": [],
   "source": [
    "# Poincaré section with different initial conditions\n",
    "\n"
   ]
  },
  {
   "cell_type": "markdown",
   "metadata": {},
   "source": [
    "#### Exercise 12.17\n",
    "Do you expect the Poincaré Diagram to change for different values of the forcing and damping?  How so? Test your prediction.\n",
    "\n",
    "\\\n",
    "\n",
    "\\\n",
    "\n",
    "\\\n",
    "\n",
    "\\"
   ]
  },
  {
   "cell_type": "code",
   "execution_count": null,
   "metadata": {
    "collapsed": true
   },
   "outputs": [],
   "source": [
    "# Poincaré section with different forcing\n",
    "\n"
   ]
  },
  {
   "cell_type": "markdown",
   "metadata": {},
   "source": [
    "#### Exercise 12.18\n",
    "Now, regenerate your plot $\\beta$=$\\frac{\\omega_0}{8}$ and $\\gamma$ = 1.500. *However*, start your series of time instances at a slightly different instance in time. For instance, rather than plotting angular momentum vs angle at t = 20.0, 21.0, 22.0, 23.0 etc., plot them for t = 20.05, 21.05, 22.05 etc. Therefore your plot will still generate a point once per period of forcing but at a slightly later time. Slowly increase your starting time in steps of 0.05 to see how the sections of the Poincaré plot evolve. *Hint: to speed things along you'll probably want to use a lower maximum time for this series than you did for your main Poincaré plot.*"
   ]
  },
  {
   "cell_type": "code",
   "execution_count": null,
   "metadata": {
    "collapsed": true
   },
   "outputs": [],
   "source": [
    "# Poincaré section for different times\n",
    "\n"
   ]
  },
  {
   "cell_type": "markdown",
   "metadata": {
    "collapsed": true
   },
   "source": [
    "## Check-out\n",
    "#### Exercise 12.19\n",
    "\n",
    "Briefly summarize in the cell below the ideas in today's lab.\n",
    "\n",
    "   /  (double-click to enter text)\n",
    "   /  \n",
    "   /  \n",
    "   /  \n",
    "   /  \n",
    "   /  \n",
    "   /  \n",
    "   /  \n",
    "   /  \n",
    "   / "
   ]
  },
  {
   "cell_type": "markdown",
   "metadata": {},
   "source": [
    "## No challenge problems this week\n",
    "However, you may want to use this time to start on the homework."
   ]
  }
 ],
 "metadata": {
  "kernelspec": {
   "display_name": "Python 3",
   "language": "python",
   "name": "python3"
  },
  "language_info": {
   "codemirror_mode": {
    "name": "ipython",
    "version": 3
   },
   "file_extension": ".py",
   "mimetype": "text/x-python",
   "name": "python",
   "nbconvert_exporter": "python",
   "pygments_lexer": "ipython3",
   "version": "3.6.3"
  }
 },
 "nbformat": 4,
 "nbformat_minor": 1
}
